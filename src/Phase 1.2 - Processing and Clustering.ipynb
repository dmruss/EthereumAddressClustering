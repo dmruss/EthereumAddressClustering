{
 "cells": [
  {
   "cell_type": "code",
   "execution_count": null,
   "id": "d45df457",
   "metadata": {},
   "outputs": [],
   "source": [
    "import pandas as pd\n",
    "from sklearn.cluster import KMeans, DBSCAN, OPTICS, Birch\n",
    "from sklearn import decomposition\n",
    "import numpy as np\n",
    "from sklearn.metrics import silhouette_score, calinski_harabasz_score, davies_bouldin_score\n",
    "import matplotlib.pyplot as plt"
   ]
  },
  {
   "cell_type": "code",
   "execution_count": null,
   "id": "c61d2816",
   "metadata": {},
   "outputs": [],
   "source": [
    "address_data = pd.read_csv('../data/address_df.csv', index_col=0)\n",
    "address_df = pd.DataFrame(data=address_data)\n",
    "address_df.head()"
   ]
  },
  {
   "cell_type": "markdown",
   "id": "cc128bae",
   "metadata": {},
   "source": [
    "## Calculate total eth transferred"
   ]
  },
  {
   "cell_type": "code",
   "execution_count": null,
   "id": "9415a080",
   "metadata": {},
   "outputs": [],
   "source": [
    "total_eth_trans = []\n",
    "for index in address_df.index:\n",
    "    total = 0\n",
    "    row = address_df.iloc[index]\n",
    "    total += float(row['total_eth_sent'])\n",
    "    total += float(row['total_eth_recv'])\n",
    "    total_eth_trans.append(total)\n",
    "address_df['total_eth_trans'] = total_eth_trans\n",
    "address_df.head()"
   ]
  },
  {
   "cell_type": "markdown",
   "id": "1fd393dd",
   "metadata": {},
   "source": [
    "## Select top 10,000 accounts by total eth transferred"
   ]
  },
  {
   "cell_type": "code",
   "execution_count": null,
   "id": "785aef0c",
   "metadata": {
    "scrolled": true
   },
   "outputs": [],
   "source": [
    "from tabulate import tabulate\n",
    "print(address_df.keys())\n",
    "sorted_df = address_df.sort_values(by='total_eth_trans', ascending=False)\n",
    "sorted_df.head()\n"
   ]
  },
  {
   "cell_type": "code",
   "execution_count": null,
   "id": "0af9c3c3",
   "metadata": {},
   "outputs": [],
   "source": [
    "top_addr_df = sorted_df.head(10000)\n",
    "len(top_addr_df)"
   ]
  },
  {
   "cell_type": "code",
   "execution_count": null,
   "id": "2fa72f84",
   "metadata": {},
   "outputs": [],
   "source": [
    "len(top_addr_df.index)"
   ]
  },
  {
   "cell_type": "code",
   "execution_count": null,
   "id": "e6cd074d",
   "metadata": {},
   "outputs": [],
   "source": [
    "top_addr_input = top_addr_df.drop('address', axis=1)"
   ]
  },
  {
   "cell_type": "code",
   "execution_count": null,
   "id": "0f55c103",
   "metadata": {},
   "outputs": [],
   "source": [
    "# top_addr_df.to_csv('../data/top_10k_addr.csv')"
   ]
  },
  {
   "cell_type": "markdown",
   "id": "2b477769",
   "metadata": {},
   "source": [
    "# Method 1: Cluster raw dataset"
   ]
  },
  {
   "cell_type": "code",
   "execution_count": null,
   "id": "8a11afd5",
   "metadata": {},
   "outputs": [],
   "source": [
    "sil_scores_raw = []\n",
    "ch_scores_raw = []\n",
    "db_scores_raw = []\n",
    "n_clusters = [2, 3, 4, 5, 6, 7, 8, 9, 10, 11]\n",
    "\n",
    "for cluster_size in n_clusters:\n",
    "    kmeans = KMeans(n_clusters=cluster_size)\n",
    "    kmeans.fit(top_addr_input)\n",
    "\n",
    "    #number of addresses per cluster\n",
    "    print('Addresses per cluster')\n",
    "    print(pd.Series(kmeans.labels_).value_counts())\n",
    "\n",
    "    #scores\n",
    "    sil_score = silhouette_score(top_addr_input, kmeans.labels_, sample_size=100000)\n",
    "    sil_scores_raw.append(sil_score)\n",
    "    print('Silhouette score:', sil_score)\n",
    "\n",
    "    ch_score = calinski_harabasz_score(top_addr_input, kmeans.labels_)\n",
    "    ch_scores_raw.append(ch_score)\n",
    "    print('Calinski-Harabasz score:', ch_score)\n",
    "\n",
    "    db_score = davies_bouldin_score(top_addr_input, kmeans.labels_)\n",
    "    db_scores_raw.append(db_score)\n",
    "    print('Davies-Bouldin score:', db_score)\n",
    "\n",
    "    #plot addresses with cluster labels\n",
    "#     plt.scatter(x_vals, y_vals, c=kmeans.labels_)\n",
    "#     plt.xlabel('PC1')\n",
    "#     plt.ylabel('PC2')\n",
    "#     plt.title('Addresses with {} clusters'.format(cluster_size))\n",
    "#     plt.show()"
   ]
  },
  {
   "cell_type": "code",
   "execution_count": null,
   "id": "3511d59f",
   "metadata": {},
   "outputs": [],
   "source": [
    "plt.plot(n_clusters, sil_scores_raw)\n",
    "plt.title('Number of Clusters vs. Silhouette Score')\n",
    "plt.show()\n",
    "plt.plot(n_clusters, sil_scores_raw)\n",
    "plt.title('Number of Clusters vs. Calinski-Harabasz Score')\n",
    "plt.show()\n",
    "plt.plot(n_clusters, sil_scores_raw)\n",
    "plt.title('Number of Clusters vs. Davies-Bouldin Score')\n",
    "plt.show()"
   ]
  },
  {
   "cell_type": "markdown",
   "id": "de462e18",
   "metadata": {},
   "source": [
    "# Method 2: After TSNE transform"
   ]
  },
  {
   "cell_type": "code",
   "execution_count": null,
   "id": "4a05aca8",
   "metadata": {},
   "outputs": [],
   "source": [
    "#with t-sne\n",
    "from sklearn.manifold import TSNE\n",
    "X_embedded = TSNE(n_components=2).fit_transform(top_addr_input)"
   ]
  },
  {
   "cell_type": "code",
   "execution_count": null,
   "id": "50db3705",
   "metadata": {
    "scrolled": false
   },
   "outputs": [],
   "source": [
    "x_vals = []\n",
    "y_vals = []\n",
    "for val in X_embedded:\n",
    "    x_vals.append(val[0])\n",
    "    y_vals.append(val[1])\n",
    "\n",
    "plt.figure(figsize=[30,30])\n",
    "plt.scatter(x_vals, y_vals, alpha=0.5)\n",
    "plt.title('T-SNE transformed addresses')\n",
    "plt.show()"
   ]
  },
  {
   "cell_type": "code",
   "execution_count": null,
   "id": "f3ea3c6c",
   "metadata": {
    "scrolled": true
   },
   "outputs": [],
   "source": [
    "sil_scores_tsne_kmeans = []\n",
    "ch_scores_tsne_kmeans = []\n",
    "db_scores_tsne_kmeans = []\n",
    "n_clusters = [2, 3, 4, 5, 6, 7, 8, 9, 10, 11]\n",
    "\n",
    "for cluster_size in n_clusters:\n",
    "    kmeans = KMeans(n_clusters=cluster_size)\n",
    "    kmeans.fit(X_embedded)\n",
    "\n",
    "    #number of addresses per cluster\n",
    "    print('Addresses per cluster')\n",
    "    print(pd.Series(kmeans.labels_).value_counts())\n",
    "\n",
    "    #scores\n",
    "    sil_score = silhouette_score(top_addr_input, kmeans.labels_, sample_size=100000)\n",
    "    sil_scores_tsne_kmeans.append(sil_score)\n",
    "    print('Silhouette score:', sil_score)\n",
    "\n",
    "    ch_score = calinski_harabasz_score(top_addr_input, kmeans.labels_)\n",
    "    ch_scores_tsne_kmeans.append(ch_score)\n",
    "    print('Calinski-Harabasz score:', ch_score)\n",
    "\n",
    "    db_score = davies_bouldin_score(top_addr_input, kmeans.labels_)\n",
    "    db_scores_tsne_kmeans.append(db_score)\n",
    "    print('Davies-Bouldin score:', db_score)\n",
    "\n",
    "    #plot addresses with cluster labels\n",
    "    plt.figure(figsize=[30,30])\n",
    "    plt.scatter(x_vals, y_vals, c=kmeans.labels_)\n",
    "    plt.xlabel('PC1')\n",
    "    plt.ylabel('PC2')\n",
    "    plt.title('Addresses with {} clusters'.format(cluster_size))\n",
    "    plt.show()"
   ]
  },
  {
   "cell_type": "code",
   "execution_count": null,
   "id": "9210a648",
   "metadata": {},
   "outputs": [],
   "source": [
    "plt.plot(n_clusters, sil_scores_tsne_kmeans)\n",
    "plt.title('Number of Clusters vs. Silhouette Score')\n",
    "plt.show()\n",
    "plt.plot(n_clusters, ch_scores_tsne_kmeans)\n",
    "plt.title('Number of Clusters vs. Calinski-Harabasz Score')\n",
    "plt.show()\n",
    "plt.plot(n_clusters, db_scores_tsne_kmeans)\n",
    "plt.title('Number of Clusters vs. Davies-Bouldin Score')\n",
    "plt.show()"
   ]
  },
  {
   "cell_type": "markdown",
   "id": "f27daeca",
   "metadata": {},
   "source": [
    "# Method 3: After PCA transform"
   ]
  },
  {
   "cell_type": "code",
   "execution_count": null,
   "id": "629755f7",
   "metadata": {},
   "outputs": [],
   "source": [
    "#dimensionality reduction\n",
    "pca = decomposition.PCA(n_components=2)\n",
    "pca.fit(top_addr_input)\n",
    "transformed_df = pca.transform(top_addr_input)\n",
    "\n",
    "x_vals = []\n",
    "y_vals = []\n",
    "for val in transformed_df:\n",
    "    x_vals.append(val[0])\n",
    "    y_vals.append(val[1])\n",
    "\n",
    "#plot addresses\n",
    "plt.scatter(x_vals, y_vals)\n",
    "plt.xlabel('PC1')\n",
    "plt.ylabel('PC2')\n",
    "plt.title('Addresses')\n",
    "plt.show()"
   ]
  },
  {
   "cell_type": "code",
   "execution_count": null,
   "id": "e7deef16",
   "metadata": {
    "scrolled": true
   },
   "outputs": [],
   "source": [
    "sil_scores_pca_kmeans = []\n",
    "ch_scores_pca_kmeans = []\n",
    "db_scores_pca_kmeans = []\n",
    "n_clusters = [2, 3, 4, 5, 6, 7, 8, 9, 10, 11]\n",
    "\n",
    "for cluster_size in n_clusters:\n",
    "    kmeans = KMeans(n_clusters=cluster_size)\n",
    "    kmeans.fit(transformed_df)\n",
    "\n",
    "    #number of addresses per cluster\n",
    "    print('Addresses per cluster')\n",
    "    print(pd.Series(kmeans.labels_).value_counts())\n",
    "\n",
    "    #scores\n",
    "    sil_score = silhouette_score(transformed_df, kmeans.labels_, sample_size=100000)\n",
    "    sil_scores_pca_kmeans.append(sil_score)\n",
    "    print('Silhouette score:', sil_score)\n",
    "\n",
    "    ch_score = calinski_harabasz_score(transformed_df, kmeans.labels_)\n",
    "    ch_scores_pca_kmeans.append(ch_score)\n",
    "    print('Calinski-Harabasz score:', ch_score)\n",
    "\n",
    "    db_score = davies_bouldin_score(transformed_df, kmeans.labels_)\n",
    "    db_scores_pca_kmeans.append(db_score)\n",
    "    print('Davies-Bouldin score:', db_score)\n",
    "\n",
    "    #plot addresses with cluster labels\n",
    "    plt.figure(figsize=[30,30])\n",
    "    plt.scatter(x_vals, y_vals, c=kmeans.labels_)\n",
    "    plt.xlabel('PC1')\n",
    "    plt.ylabel('PC2')\n",
    "    plt.title('Addresses with {} clusters'.format(cluster_size))\n",
    "    plt.show()"
   ]
  },
  {
   "cell_type": "code",
   "execution_count": null,
   "id": "78d3dffc",
   "metadata": {},
   "outputs": [],
   "source": [
    "plt.plot(n_clusters, sil_scores_pca_kmeans)\n",
    "plt.title('Number of Clusters vs. Silhouette Score')\n",
    "plt.show()\n",
    "plt.plot(n_clusters, ch_scores_pca_kmeans)\n",
    "plt.title('Number of Clusters vs. Calinski-Harabasz Score')\n",
    "plt.show()\n",
    "plt.plot(n_clusters, db_scores_pca_kmeans)\n",
    "plt.title('Number of Clusters vs. Davies-Bouldin Score')\n",
    "plt.show()"
   ]
  },
  {
   "cell_type": "code",
   "execution_count": null,
   "id": "c9126441",
   "metadata": {},
   "outputs": [],
   "source": [
    "agg_scores = []\n",
    "for index in range(len(n_clusters)):\n",
    "    agg_score = 0\n",
    "    agg_score += (sil_scores_pca_kmeans[index] - np.min(sil_scores_pca_kmeans)) / (np.max(sil_scores_pca_kmeans) - np.min(sil_scores_pca_kmeans))\n",
    "    agg_score += (ch_scores_pca_kmeans[index] - np.min(ch_scores_pca_kmeans)) / (np.max(ch_scores_pca_kmeans) - np.min(ch_scores_pca_kmeans))\n",
    "    agg_score += 1/((db_scores_pca_kmeans[index] - np.min(db_scores_pca_kmeans)) / (np.max(db_scores_pca_kmeans) - np.min(db_scores_pca_kmeans)))\n",
    "    agg_score = agg_score/3\n",
    "    agg_scores.append(agg_score)\n",
    "    \n",
    "plt.plot(n_clusters, agg_scores)\n",
    "plt.show()"
   ]
  },
  {
   "cell_type": "markdown",
   "id": "70e2fb05",
   "metadata": {},
   "source": [
    "# All three clusterings compared"
   ]
  },
  {
   "cell_type": "code",
   "execution_count": null,
   "id": "48a8c9f6",
   "metadata": {
    "scrolled": true
   },
   "outputs": [],
   "source": [
    "#plot all three scores\n",
    "plt.plot(n_clusters, sil_scores_raw, c='red')\n",
    "plt.plot(n_clusters, sil_scores_tsne_kmeans, c='blue')\n",
    "plt.plot(n_clusters, sil_scores_pca_kmeans, c='yellow')\n",
    "plt.title('Number of Clusters vs. Silhouette Score')\n",
    "plt.show()\n",
    "\n",
    "plt.plot(n_clusters, ch_scores_pca_kmeans, c='yellow')\n",
    "plt.plot(n_clusters, ch_scores_raw, c='red')\n",
    "plt.plot(n_clusters, ch_scores_tsne_kmeans, c='blue')\n",
    "plt.title('Number of Clusters vs. Calinski-Harabasz Score')\n",
    "plt.show()\n",
    "\n",
    "plt.plot(n_clusters, db_scores_raw, c='red')\n",
    "plt.plot(n_clusters, db_scores_tsne_kmeans, c='blue')\n",
    "plt.plot(n_clusters, db_scores_pca_kmeans, c='yellow')\n",
    "plt.title('Number of Clusters vs. Davies-Bouldin Score')\n",
    "plt.show()"
   ]
  },
  {
   "cell_type": "markdown",
   "id": "f0064880",
   "metadata": {},
   "source": [
    "# Method 4: Log transform, PCA, then cluster"
   ]
  },
  {
   "cell_type": "code",
   "execution_count": null,
   "id": "438932fc",
   "metadata": {},
   "outputs": [],
   "source": [
    "top_addr_logt = top_addr_input.copy()"
   ]
  },
  {
   "cell_type": "code",
   "execution_count": null,
   "id": "b10ecb3f",
   "metadata": {},
   "outputs": [],
   "source": [
    "for col in top_addr_logt.keys():\n",
    "    logt_col = [float(x)+1 for x in top_addr_logt[col]]\n",
    "    logt_col = np.log(logt_col)\n",
    "    top_addr_logt[col] = logt_col    "
   ]
  },
  {
   "cell_type": "code",
   "execution_count": null,
   "id": "8a9cde0b",
   "metadata": {},
   "outputs": [],
   "source": [
    "top_addr_logt.head()"
   ]
  },
  {
   "cell_type": "code",
   "execution_count": null,
   "id": "4f2b16ad",
   "metadata": {},
   "outputs": [],
   "source": [
    "top_addr_logt = top_addr_logt.drop('send_count', axis=1)\n",
    "top_addr_logt = top_addr_logt.drop('receive_count', axis=1)\n",
    "top_addr_logt = top_addr_logt.drop('max_nonce', axis=1)\n",
    "top_addr_logt = top_addr_logt.drop('total_eth_trans', axis=1)\n",
    "top_addr_logt.head()"
   ]
  },
  {
   "cell_type": "code",
   "execution_count": null,
   "id": "92d3d08d",
   "metadata": {},
   "outputs": [],
   "source": [
    "#dimensionality reduction\n",
    "pca = decomposition.PCA(n_components=2)\n",
    "pca.fit(top_addr_logt)\n",
    "transformed_df = pca.transform(top_addr_logt)\n",
    "\n",
    "x_vals = []\n",
    "y_vals = []\n",
    "for val in transformed_df:\n",
    "    x_vals.append(val[0])\n",
    "    y_vals.append(val[1])\n"
   ]
  },
  {
   "cell_type": "code",
   "execution_count": null,
   "id": "cfabfe73",
   "metadata": {
    "scrolled": false
   },
   "outputs": [],
   "source": [
    "sil_scores_log_pca_kmeans = []\n",
    "ch_scores_log_pca_kmeans = []\n",
    "db_scores_log_pca_kmeans = []\n",
    "n_clusters = [2, 3, 4, 5, 6, 7, 8, 9, 10, 11]\n",
    "\n",
    "for cluster_size in n_clusters:\n",
    "    kmeans = KMeans(n_clusters=cluster_size)\n",
    "    kmeans.fit(transformed_df)\n",
    "\n",
    "    #number of addresses per cluster\n",
    "    print('Addresses per cluster')\n",
    "    print(pd.Series(kmeans.labels_).value_counts())\n",
    "\n",
    "    #scores\n",
    "    sil_score = silhouette_score(transformed_df, kmeans.labels_, sample_size=100000)\n",
    "    sil_scores_log_pca_kmeans.append(sil_score)\n",
    "    print('Silhouette score:', sil_score)\n",
    "\n",
    "    ch_score = calinski_harabasz_score(transformed_df, kmeans.labels_)\n",
    "    ch_scores_log_pca_kmeans.append(ch_score)\n",
    "    print('Calinski-Harabasz score:', ch_score)\n",
    "\n",
    "    db_score = davies_bouldin_score(transformed_df, kmeans.labels_)\n",
    "    db_scores_log_pca_kmeans.append(db_score)\n",
    "    print('Davies-Bouldin score:', db_score)\n",
    "    \n",
    "    if cluster_size == 4:\n",
    "        #export unique address with clusters\n",
    "        top_addr_df['clusters'] = kmeans.labels_\n",
    "        top_addr_df['pca_x_vals'] = x_vals\n",
    "        top_addr_df['pca_y_vals'] = y_vals\n",
    "        print(top_addr_df.head(5))\n",
    "#         top_addr_df.to_csv('addresses_pca_kmeans.csv')\n",
    "    \n",
    "    plot_df = pd.DataFrame()\n",
    "    plot_df['x_vals'] = x_vals\n",
    "    plot_df['y_vals'] = y_vals\n",
    "    plot_df['cluster'] = kmeans.labels_\n",
    "    \n",
    "    #plot addresses\n",
    "    plt.rc('font', size=20)\n",
    "    plt.figure(figsize=(10,10))\n",
    "    plt.scatter(plot_df['x_vals'][plot_df['cluster'] == 0], plot_df['y_vals'][plot_df['cluster'] == 0], label='0',c='orange',alpha=0.5)\n",
    "    plt.scatter(plot_df['x_vals'][plot_df['cluster'] == 1], plot_df['y_vals'][plot_df['cluster'] == 1], label='1',c='navy',alpha=0.5)\n",
    "    try:\n",
    "        plt.scatter(plot_df['x_vals'][plot_df['cluster'] == 2], plot_df['y_vals'][plot_df['cluster'] == 2], label='2',c='lightblue',alpha=0.5)\n",
    "        plt.scatter(plot_df['x_vals'][plot_df['cluster'] == 3], plot_df['y_vals'][plot_df['cluster'] == 3], label='3',c='darkred',alpha=0.5)\n",
    "    except:\n",
    "        continue\n",
    "    plt.legend()\n",
    "    plt.xlabel('PC1')\n",
    "    plt.ylabel('PC2')\n",
    "    plt.title('Method 4, Tx statistics, {} clusters'.format(cluster_size))\n",
    "    plt.show()"
   ]
  },
  {
   "cell_type": "code",
   "execution_count": null,
   "id": "e8dddea0",
   "metadata": {},
   "outputs": [],
   "source": []
  },
  {
   "cell_type": "markdown",
   "id": "71f084f5",
   "metadata": {},
   "source": [
    "## Compare all 4 methods"
   ]
  },
  {
   "cell_type": "code",
   "execution_count": null,
   "id": "6dfe07f5",
   "metadata": {
    "scrolled": true
   },
   "outputs": [],
   "source": [
    "#plot all three scores\n",
    "plt.plot(n_clusters, sil_scores_raw, c='red')\n",
    "plt.plot(n_clusters, sil_scores_tsne_kmeans, c='blue')\n",
    "plt.plot(n_clusters, sil_scores_pca_kmeans, c='yellow')\n",
    "plt.plot(n_clusters, sil_scores_log_pca_kmeans, c='green')\n",
    "plt.title('Number of Clusters vs. Silhouette Score')\n",
    "plt.show()\n",
    "\n",
    "plt.plot(n_clusters, ch_scores_pca_kmeans, c='yellow')\n",
    "plt.plot(n_clusters, ch_scores_raw, c='red')\n",
    "plt.plot(n_clusters, ch_scores_tsne_kmeans, c='blue')\n",
    "plt.plot(n_clusters, ch_scores_log_pca_kmeans, c='green')\n",
    "plt.title('Number of Clusters vs. Calinski-Harabasz Score')\n",
    "plt.show()\n",
    "\n",
    "plt.plot(n_clusters, db_scores_raw, c='red')\n",
    "plt.plot(n_clusters, db_scores_tsne_kmeans, c='blue')\n",
    "plt.plot(n_clusters, db_scores_pca_kmeans, c='yellow')\n",
    "plt.plot(n_clusters, db_scores_log_pca_kmeans, c='green')\n",
    "plt.title('Number of Clusters vs. Davies-Bouldin Score')\n",
    "plt.show()"
   ]
  },
  {
   "cell_type": "markdown",
   "id": "3b08e467",
   "metadata": {},
   "source": [
    "# Method 5: Log transform, tsne projection to 2-d space, cluster"
   ]
  },
  {
   "cell_type": "code",
   "execution_count": null,
   "id": "52c0f0be",
   "metadata": {},
   "outputs": [],
   "source": [
    "#dimensionality reduction\n",
    "tsne = TSNE(n_components=2)\n",
    "# tsne.fit(top_addr_logt)\n",
    "transformed_df = tsne.fit_transform(top_addr_logt)\n",
    "\n",
    "x_vals = []\n",
    "y_vals = []\n",
    "for val in transformed_df:\n",
    "    x_vals.append(val[0])\n",
    "    y_vals.append(val[1])"
   ]
  },
  {
   "cell_type": "code",
   "execution_count": null,
   "id": "967b4893",
   "metadata": {
    "scrolled": true
   },
   "outputs": [],
   "source": [
    "sil_scores_log_tsne_kmeans = []\n",
    "ch_scores_log_tsne_kmeans = []\n",
    "db_scores_log_tsne_kmeans = []\n",
    "n_clusters = [2, 3, 4, 5, 6, 7, 8, 9, 10, 11]\n",
    "\n",
    "for cluster_size in n_clusters:\n",
    "    kmeans = KMeans(n_clusters=cluster_size)\n",
    "    kmeans.fit(transformed_df)\n",
    "    \n",
    "\n",
    "    #number of addresses per cluster\n",
    "    print('Addresses per cluster')\n",
    "    print(pd.Series(kmeans.labels_).value_counts())\n",
    "\n",
    "    #scores\n",
    "    sil_score = silhouette_score(transformed_df, kmeans.labels_, sample_size=100000)\n",
    "    sil_scores_log_tsne_kmeans.append(sil_score)\n",
    "    print('Silhouette score:', sil_score)\n",
    "\n",
    "    ch_score = calinski_harabasz_score(transformed_df, kmeans.labels_)\n",
    "    ch_scores_log_tsne_kmeans.append(ch_score)\n",
    "    print('Calinski-Harabasz score:', ch_score)\n",
    "\n",
    "    db_score = davies_bouldin_score(transformed_df, kmeans.labels_)\n",
    "    db_scores_log_tsne_kmeans.append(db_score)\n",
    "    print('Davies-Bouldin score:', db_score)\n",
    "    \n",
    "    #plot addresses\n",
    "    plt.figure(figsize=[30,30])\n",
    "    plt.scatter(x_vals, y_vals, c=kmeans.labels_)\n",
    "    plt.xlabel('PC1')\n",
    "    plt.ylabel('PC2')\n",
    "    plt.title('Addresses in {} clusters-Kmeans'.format(cluster_size))\n",
    "    plt.show()\n",
    "    \n"
   ]
  },
  {
   "cell_type": "code",
   "execution_count": null,
   "id": "e06a5eef",
   "metadata": {},
   "outputs": [],
   "source": []
  },
  {
   "cell_type": "markdown",
   "id": "a46e7d17",
   "metadata": {},
   "source": [
    "## Compare all 5 methods"
   ]
  },
  {
   "cell_type": "code",
   "execution_count": null,
   "id": "ff27d1dc",
   "metadata": {
    "scrolled": true
   },
   "outputs": [],
   "source": [
    "#plot all three scores\n",
    "plt.plot(n_clusters, sil_scores_raw, c='red')\n",
    "plt.plot(n_clusters, sil_scores_tsne_kmeans, c='blue')\n",
    "plt.plot(n_clusters, sil_scores_pca_kmeans, c='yellow')\n",
    "plt.plot(n_clusters, sil_scores_log_pca_kmeans, c='green')\n",
    "plt.plot(n_clusters, sil_scores_log_tsne_kmeans, c='purple')\n",
    "plt.title('Number of Clusters vs. Silhouette Score')\n",
    "plt.show()\n",
    "\n",
    "plt.plot(n_clusters, ch_scores_pca_kmeans, c='yellow')\n",
    "plt.plot(n_clusters, ch_scores_raw, c='red')\n",
    "plt.plot(n_clusters, ch_scores_tsne_kmeans, c='blue')\n",
    "plt.plot(n_clusters, ch_scores_log_pca_kmeans, c='green')\n",
    "plt.plot(n_clusters, ch_scores_log_tsne_kmeans, c='purple')\n",
    "plt.title('Number of Clusters vs. Calinski-Harabasz Score')\n",
    "plt.show()\n",
    "\n",
    "plt.plot(n_clusters, db_scores_raw, c='red')\n",
    "plt.plot(n_clusters, db_scores_tsne_kmeans, c='blue')\n",
    "plt.plot(n_clusters, db_scores_pca_kmeans, c='yellow')\n",
    "plt.plot(n_clusters, db_scores_log_pca_kmeans, c='green')\n",
    "plt.plot(n_clusters, ch_scores_log_tsne_kmeans, c='purple')\n",
    "plt.title('Number of Clusters vs. Davies-Bouldin Score')\n",
    "plt.show()"
   ]
  },
  {
   "cell_type": "markdown",
   "id": "fc95ec46",
   "metadata": {},
   "source": [
    "# Method 6: Log transform, pca, DBSCAN"
   ]
  },
  {
   "cell_type": "code",
   "execution_count": null,
   "id": "ea006df2",
   "metadata": {},
   "outputs": [],
   "source": [
    "#dimensionality reduction\n",
    "pca = decomposition.PCA(n_components=2)\n",
    "pca.fit(top_addr_logt)\n",
    "transformed_df = pca.transform(top_addr_logt)\n",
    "\n",
    "x_vals = []\n",
    "y_vals = []\n",
    "for val in transformed_df:\n",
    "    x_vals.append(val[0])\n",
    "    y_vals.append(val[1])"
   ]
  },
  {
   "cell_type": "code",
   "execution_count": null,
   "id": "e4c8b1eb",
   "metadata": {
    "scrolled": true
   },
   "outputs": [],
   "source": [
    "sil_scores_log_pca_dbscan = []\n",
    "ch_scores_log_pca_dbscan = []\n",
    "db_scores_log_pca_dbscan = []\n",
    "eps_values = [.2, .4, .5, 1, 2, 3]\n",
    "n_clusters_dbscan1 = []\n",
    "\n",
    "for eps_val in eps_values:\n",
    "    dbscan = DBSCAN(eps=eps_val)\n",
    "    dbscan.fit(transformed_df)\n",
    "    \n",
    "    #number of addresses per cluster\n",
    "    print('Addresses per cluster')\n",
    "    print(pd.Series(dbscan.labels_).value_counts())\n",
    "    n_clusters_dbscan1.append(len(pd.Series(dbscan.labels_).value_counts()))\n",
    "\n",
    "    #scores\n",
    "    sil_score = silhouette_score(transformed_df, dbscan.labels_, sample_size=100000)\n",
    "    sil_scores_log_pca_dbscan.append(sil_score)\n",
    "    print('Silhouette score:', sil_score)\n",
    "\n",
    "    ch_score = calinski_harabasz_score(transformed_df, dbscan.labels_)\n",
    "    ch_scores_log_pca_dbscan.append(ch_score)\n",
    "    print('Calinski-Harabasz score:', ch_score)\n",
    "\n",
    "    db_score = davies_bouldin_score(transformed_df, dbscan.labels_)\n",
    "    db_scores_log_pca_dbscan.append(db_score)\n",
    "    print('Davies-Bouldin score:', db_score)\n",
    "\n",
    "    #plot addresses\n",
    "    plt.figure(figsize=[30,30])\n",
    "    plt.scatter(x_vals, y_vals, c=dbscan.labels_)\n",
    "    plt.xlabel('PC1')\n",
    "    plt.ylabel('PC2')\n",
    "    plt.title('Addresses clustered with DBSCAN and epsilon value {}'.format(eps_val))\n",
    "    plt.show()"
   ]
  },
  {
   "cell_type": "code",
   "execution_count": null,
   "id": "bffb56e7",
   "metadata": {},
   "outputs": [],
   "source": [
    "#rm outlier clusterings from dbscan\n",
    "\n",
    "n_clusters_dbscan1 = n_clusters_dbscan1[1:]\n",
    "sil_scores_log_pca_dbscan = sil_scores_log_pca_dbscan[1:]\n",
    "ch_scores_log_pca_dbscan = ch_scores_log_pca_dbscan[1:]\n",
    "db_scores_log_pca_dbscan = db_scores_log_pca_dbscan[1:]"
   ]
  },
  {
   "cell_type": "code",
   "execution_count": null,
   "id": "14c46d4a",
   "metadata": {},
   "outputs": [],
   "source": [
    "#plot all three scores\n",
    "# plt.plot(eps_values, sil_scores_log_pca_dbscan, c='orange')\n",
    "\n",
    "# plt.title('Number of Clusters vs. Silhouette Score')\n",
    "# plt.show()\n",
    "\n",
    "# plt.plot(eps_values, ch_scores_log_pca_dbscan, c='orange')\n",
    "\n",
    "# plt.title('Number of Clusters vs. Calinski-Harabasz Score')\n",
    "# plt.show()\n",
    "\n",
    "# plt.plot(eps_values, db_scores_log_pca_dbscan, c='orange')\n",
    "\n",
    "# plt.title('Number of Clusters vs. Davies-Bouldin Score')\n",
    "# plt.show()"
   ]
  },
  {
   "cell_type": "code",
   "execution_count": null,
   "id": "c12d1682",
   "metadata": {
    "scrolled": true
   },
   "outputs": [],
   "source": [
    "#plot all three scores\n",
    "plt.plot(n_clusters, sil_scores_raw, c='red')\n",
    "plt.plot(n_clusters, sil_scores_tsne_kmeans, c='blue')\n",
    "plt.plot(n_clusters, sil_scores_pca_kmeans, c='yellow')\n",
    "plt.plot(n_clusters, sil_scores_log_pca_kmeans, c='green')\n",
    "plt.plot(n_clusters, sil_scores_log_tsne_kmeans, c='purple')\n",
    "plt.plot(n_clusters_dbscan1, sil_scores_log_pca_dbscan, c='teal')\n",
    "plt.title('Number of Clusters vs. Silhouette Score')\n",
    "plt.show()\n",
    "\n",
    "plt.plot(n_clusters, ch_scores_pca_kmeans, c='yellow')\n",
    "plt.plot(n_clusters, ch_scores_raw, c='red')\n",
    "plt.plot(n_clusters, ch_scores_tsne_kmeans, c='blue')\n",
    "plt.plot(n_clusters, ch_scores_log_pca_kmeans, c='green')\n",
    "plt.plot(n_clusters, ch_scores_log_tsne_kmeans, c='purple')\n",
    "plt.plot(n_clusters_dbscan1, ch_scores_log_pca_dbscan, c='teal')\n",
    "plt.title('Number of Clusters vs. Calinski-Harabasz Score')\n",
    "plt.show()\n",
    "\n",
    "plt.plot(n_clusters, db_scores_raw, c='red')\n",
    "plt.plot(n_clusters, db_scores_tsne_kmeans, c='blue')\n",
    "plt.plot(n_clusters, db_scores_pca_kmeans, c='yellow')\n",
    "plt.plot(n_clusters, db_scores_log_pca_kmeans, c='green')\n",
    "plt.plot(n_clusters, ch_scores_log_tsne_kmeans, c='purple')\n",
    "plt.plot(n_clusters_dbscan1, db_scores_log_pca_dbscan, c='teal')\n",
    "plt.title('Number of Clusters vs. Davies-Bouldin Score')\n",
    "plt.show()"
   ]
  },
  {
   "cell_type": "markdown",
   "id": "f98c5510",
   "metadata": {},
   "source": [
    "# Method 7: log transform, cluster, then pca and plot"
   ]
  },
  {
   "cell_type": "code",
   "execution_count": null,
   "id": "41a01508",
   "metadata": {
    "scrolled": true
   },
   "outputs": [],
   "source": [
    "from sklearn.cluster import KMeans\n",
    "from sklearn.manifold import TSNE\n",
    "sil_scores_log_kmeans = []\n",
    "ch_scores_log_kmeans = []\n",
    "db_scores_log_kmeans = []\n",
    "n_clusters = [2, 3, 4, 5, 6, 7, 8, 9, 10, 11]\n",
    "\n",
    "#dimensionality reduction\n",
    "pca = decomposition.PCA(n_components=2)\n",
    "pca.fit(top_addr_logt)\n",
    "transformed_df = pca.transform(top_addr_logt)\n",
    "\n",
    "x_vals = []\n",
    "y_vals = []\n",
    "for val in transformed_df:\n",
    "    x_vals.append(val[0])\n",
    "    y_vals.append(val[1])\n",
    "\n",
    "\n",
    "for cluster_size in n_clusters:\n",
    "    kmeans = KMeans(n_clusters=cluster_size)\n",
    "    kmeans.fit(top_addr_logt)\n",
    "    \n",
    "\n",
    "    #number of addresses per cluster\n",
    "    print('Addresses per cluster')\n",
    "    print(pd.Series(kmeans.labels_).value_counts())\n",
    "\n",
    "    #scores\n",
    "    sil_score = silhouette_score(top_addr_logt, kmeans.labels_, sample_size=100000)\n",
    "    sil_scores_log_kmeans.append(sil_score)\n",
    "    print('Silhouette score:', sil_score)\n",
    "\n",
    "    ch_score = calinski_harabasz_score(top_addr_logt, kmeans.labels_)\n",
    "    ch_scores_log_kmeans.append(ch_score)\n",
    "    print('Calinski-Harabasz score:', ch_score)\n",
    "\n",
    "    db_score = davies_bouldin_score(top_addr_logt, kmeans.labels_)\n",
    "    db_scores_log_kmeans.append(db_score)\n",
    "    print('Davies-Bouldin score:', db_score)\n",
    "    \n",
    "\n",
    "    \n",
    "    #plot addresses\n",
    "    plt.figure(figsize=[30,30])\n",
    "    plt.scatter(x_vals, y_vals, c=kmeans.labels_)\n",
    "    plt.xlabel('PC1')\n",
    "    plt.ylabel('PC2')\n",
    "    plt.title('Addresses in {} clusters after log transform and kmeans clustering'.format(cluster_size))\n",
    "    plt.show()\n",
    "    \n"
   ]
  },
  {
   "cell_type": "code",
   "execution_count": null,
   "id": "f827830e",
   "metadata": {},
   "outputs": [],
   "source": [
    "#plot all three scores\n",
    "plt.plot(n_clusters, sil_scores_raw, c='red')\n",
    "plt.plot(n_clusters, sil_scores_tsne_kmeans, c='blue')\n",
    "plt.plot(n_clusters, sil_scores_pca_kmeans, c='yellow')\n",
    "plt.plot(n_clusters, sil_scores_log_pca_kmeans, c='green')\n",
    "plt.plot(n_clusters, sil_scores_log_tsne_kmeans, c='purple')\n",
    "plt.plot(n_clusters_dbscan1, sil_scores_log_pca_dbscan, c='teal')\n",
    "plt.plot(n_clusters, sil_scores_log_kmeans, c='black')\n",
    "plt.title('Number of Clusters vs. Silhouette Score')\n",
    "plt.show()\n",
    "\n",
    "plt.plot(n_clusters, ch_scores_pca_kmeans, c='yellow')\n",
    "plt.plot(n_clusters, ch_scores_raw, c='red')\n",
    "plt.plot(n_clusters, ch_scores_tsne_kmeans, c='blue')\n",
    "plt.plot(n_clusters, ch_scores_log_pca_kmeans, c='green')\n",
    "plt.plot(n_clusters, ch_scores_log_tsne_kmeans, c='purple')\n",
    "plt.plot(n_clusters_dbscan1, ch_scores_log_pca_dbscan, c='teal')\n",
    "plt.plot(n_clusters, ch_scores_log_kmeans, c='black')\n",
    "plt.title('Number of Clusters vs. Calinski-Harabasz Score')\n",
    "plt.show()\n",
    "\n",
    "plt.plot(n_clusters, db_scores_raw, c='red')\n",
    "plt.plot(n_clusters, db_scores_tsne_kmeans, c='blue')\n",
    "plt.plot(n_clusters, db_scores_pca_kmeans, c='yellow')\n",
    "plt.plot(n_clusters, db_scores_log_pca_kmeans, c='green')\n",
    "plt.plot(n_clusters, ch_scores_log_tsne_kmeans, c='purple')\n",
    "plt.plot(n_clusters_dbscan1, db_scores_log_pca_dbscan, c='teal')\n",
    "plt.plot(n_clusters, db_scores_log_kmeans, c='black')\n",
    "plt.title('Number of Clusters vs. Davies-Bouldin Score')\n",
    "plt.show()"
   ]
  },
  {
   "cell_type": "markdown",
   "id": "cab961a6",
   "metadata": {},
   "source": [
    "## Method 8: log transform, birch cluster, pca to visualize"
   ]
  },
  {
   "cell_type": "code",
   "execution_count": null,
   "id": "aecdc06e",
   "metadata": {
    "scrolled": true
   },
   "outputs": [],
   "source": [
    "from sklearn.cluster import Birch\n",
    "\n",
    "sil_scores_log_birch = []\n",
    "ch_scores_log_birch = []\n",
    "db_scores_log_birch = []\n",
    "n_clusters = [2, 3, 4, 5, 6, 7, 8, 9, 10, 11]\n",
    "\n",
    "#dimensionality reduction\n",
    "pca = decomposition.PCA(n_components=2)\n",
    "pca.fit(top_addr_logt)\n",
    "transformed_df = pca.transform(top_addr_logt)\n",
    "\n",
    "x_vals = []\n",
    "y_vals = []\n",
    "for val in transformed_df:\n",
    "    x_vals.append(val[0])\n",
    "    y_vals.append(val[1])\n",
    "\n",
    "\n",
    "for cluster_size in n_clusters:\n",
    "    birch = Birch(n_clusters=cluster_size)\n",
    "    birch.fit(top_addr_logt)\n",
    "    \n",
    "\n",
    "    #number of addresses per cluster\n",
    "    print('Addresses per cluster')\n",
    "    print(pd.Series(birch.labels_).value_counts())\n",
    "\n",
    "    #scores\n",
    "    sil_score = silhouette_score(top_addr_logt, birch.labels_, sample_size=100000)\n",
    "    sil_scores_log_birch.append(sil_score)\n",
    "    print('Silhouette score:', sil_score)\n",
    "\n",
    "    ch_score = calinski_harabasz_score(top_addr_logt, birch.labels_)\n",
    "    ch_scores_log_birch.append(ch_score)\n",
    "    print('Calinski-Harabasz score:', ch_score)\n",
    "\n",
    "    db_score = davies_bouldin_score(top_addr_logt, birch.labels_)\n",
    "    db_scores_log_birch.append(db_score)\n",
    "    print('Davies-Bouldin score:', db_score)\n",
    "    \n",
    "\n",
    "    \n",
    "    #plot addresses\n",
    "    plt.figure(figsize=[30,30])\n",
    "    plt.scatter(x_vals, y_vals, c=birch.labels_)\n",
    "    plt.xlabel('PC1')\n",
    "    plt.ylabel('PC2')\n",
    "    plt.title('Addresses in {} clusters after log transform and birch clustering'.format(cluster_size))\n",
    "    plt.show()\n",
    "    "
   ]
  },
  {
   "cell_type": "code",
   "execution_count": null,
   "id": "df5f4f86",
   "metadata": {
    "scrolled": false
   },
   "outputs": [],
   "source": [
    "#plot all three scores\n",
    "plt.plot(n_clusters, sil_scores_raw, c='red')\n",
    "# plt.plot(n_clusters, sil_scores_tsne_kmeans, c='blue')\n",
    "plt.plot(n_clusters, sil_scores_pca_kmeans, c='yellow')\n",
    "plt.plot(n_clusters, sil_scores_log_pca_kmeans, c='green')\n",
    "# plt.plot(n_clusters, sil_scores_log_tsne_kmeans, c='purple')\n",
    "plt.plot(n_clusters_dbscan1, sil_scores_log_pca_dbscan, c='teal')\n",
    "plt.plot(n_clusters, sil_scores_log_kmeans, c='black')\n",
    "plt.plot(n_clusters, sil_scores_log_birch, c='pink')\n",
    "plt.title('Number of Clusters vs. Silhouette Score')\n",
    "plt.show()\n",
    "\n",
    "plt.plot(n_clusters, ch_scores_pca_kmeans, c='yellow')\n",
    "plt.plot(n_clusters, ch_scores_raw, c='red')\n",
    "# plt.plot(n_clusters, ch_scores_tsne_kmeans, c='blue')\n",
    "plt.plot(n_clusters, ch_scores_log_pca_kmeans, c='green')\n",
    "# plt.plot(n_clusters, ch_scores_log_tsne_kmeans, c='purple')\n",
    "plt.plot(n_clusters_dbscan1, ch_scores_log_pca_dbscan, c='teal')\n",
    "plt.plot(n_clusters, ch_scores_log_kmeans, c='black')\n",
    "plt.plot(n_clusters, ch_scores_log_birch, c='pink')\n",
    "plt.title('Number of Clusters vs. Calinski-Harabasz Score')\n",
    "plt.show()\n",
    "\n",
    "plt.plot(n_clusters, db_scores_raw, c='red')\n",
    "# plt.plot(n_clusters, db_scores_tsne_kmeans, c='blue')\n",
    "plt.plot(n_clusters, db_scores_pca_kmeans, c='yellow')\n",
    "plt.plot(n_clusters, db_scores_log_pca_kmeans, c='green')\n",
    "# plt.plot(n_clusters, ch_scores_log_tsne_kmeans, c='purple')\n",
    "plt.plot(n_clusters_dbscan1, db_scores_log_pca_dbscan, c='teal')\n",
    "plt.plot(n_clusters, db_scores_log_kmeans, c='black')\n",
    "plt.plot(n_clusters, db_scores_log_birch, c='pink')\n",
    "plt.title('Number of Clusters vs. Davies-Bouldin Score')\n",
    "plt.show()"
   ]
  },
  {
   "cell_type": "markdown",
   "id": "f3af1062",
   "metadata": {},
   "source": [
    "## Method 9: log, dbscan, pca to viz"
   ]
  },
  {
   "cell_type": "code",
   "execution_count": null,
   "id": "e325e487",
   "metadata": {},
   "outputs": [],
   "source": [
    "#dimensionality reduction\n",
    "pca = decomposition.PCA(n_components=2)\n",
    "pca.fit(top_addr_logt)\n",
    "transformed_df = pca.transform(top_addr_logt)\n",
    "\n",
    "x_vals = []\n",
    "y_vals = []\n",
    "for val in transformed_df:\n",
    "    x_vals.append(val[0])\n",
    "    y_vals.append(val[1])"
   ]
  },
  {
   "cell_type": "code",
   "execution_count": null,
   "id": "1f4d5906",
   "metadata": {
    "scrolled": true
   },
   "outputs": [],
   "source": [
    "sil_scores_log_dbscan = []\n",
    "ch_scores_log_dbscan = []\n",
    "db_scores_log_dbscan = []\n",
    "eps_values = [.2, .4, .5, 1, 2, 3]\n",
    "n_clusters_log_dbscan = []\n",
    "\n",
    "for eps_val in eps_values:\n",
    "    dbscan = DBSCAN(eps=eps_val)\n",
    "    dbscan.fit(top_addr_logt)\n",
    "    \n",
    "    #number of addresses per cluster\n",
    "    print('Addresses per cluster')\n",
    "    print(pd.Series(dbscan.labels_).value_counts())\n",
    "    n_clusters_log_dbscan.append(len(pd.Series(dbscan.labels_).value_counts()))\n",
    "\n",
    "    #scores\n",
    "    sil_score = silhouette_score(top_addr_logt, dbscan.labels_, sample_size=100000)\n",
    "    sil_scores_log_dbscan.append(sil_score)\n",
    "    print('Silhouette score:', sil_score)\n",
    "\n",
    "    ch_score = calinski_harabasz_score(top_addr_logt, dbscan.labels_)\n",
    "    ch_scores_log_dbscan.append(ch_score)\n",
    "    print('Calinski-Harabasz score:', ch_score)\n",
    "\n",
    "    db_score = davies_bouldin_score(top_addr_logt, dbscan.labels_)\n",
    "    db_scores_log_dbscan.append(db_score)\n",
    "    print('Davies-Bouldin score:', db_score)\n",
    "\n",
    "    #plot addresses\n",
    "    plt.figure(figsize=[30,30])\n",
    "    plt.scatter(x_vals, y_vals, c=dbscan.labels_)\n",
    "    plt.xlabel('PC1')\n",
    "    plt.ylabel('PC2')\n",
    "    plt.title('Addresses clustered with DBSCAN and epsilon value {}'.format(eps_val))\n",
    "    plt.show()"
   ]
  },
  {
   "cell_type": "code",
   "execution_count": null,
   "id": "5c0df3ed",
   "metadata": {
    "scrolled": true
   },
   "outputs": [],
   "source": [
    "#plot all three scores\n",
    "plt.figure(figsize=(30,30))\n",
    "plt.plot(n_clusters, sil_scores_raw, c='red')\n",
    "plt.plot(n_clusters_log_dbscan, sil_scores_log_dbscan, c='blue')\n",
    "plt.plot(n_clusters, sil_scores_pca_kmeans, c='yellow')\n",
    "plt.plot(n_clusters, sil_scores_log_pca_kmeans, c='green')\n",
    "# plt.plot(n_clusters, sil_scores_log_tsne_kmeans, c='purple')\n",
    "plt.plot(n_clusters_dbscan1, sil_scores_log_pca_dbscan, c='teal')\n",
    "plt.plot(n_clusters, sil_scores_log_kmeans, c='black')\n",
    "plt.plot(n_clusters, sil_scores_log_birch, c='pink')\n",
    "plt.title('Number of Clusters vs. Silhouette Score')\n",
    "plt.show()\n",
    "\n",
    "plt.figure(figsize=(30,30))\n",
    "plt.plot(n_clusters, ch_scores_pca_kmeans, c='yellow')\n",
    "plt.plot(n_clusters, ch_scores_raw, c='red')\n",
    "plt.plot(n_clusters_log_dbscan, ch_scores_log_dbscan, c='blue')\n",
    "plt.plot(n_clusters, ch_scores_log_pca_kmeans, c='green')\n",
    "# plt.plot(n_clusters, ch_scores_log_tsne_kmeans, c='purple')\n",
    "plt.plot(n_clusters_dbscan1, ch_scores_log_pca_dbscan, c='teal')\n",
    "plt.plot(n_clusters, ch_scores_log_kmeans, c='black')\n",
    "plt.plot(n_clusters, ch_scores_log_birch, c='pink')\n",
    "plt.title('Number of Clusters vs. Calinski-Harabasz Score')\n",
    "plt.show()\n",
    "\n",
    "plt.figure(figsize=(30,30))\n",
    "plt.plot(n_clusters, db_scores_raw, c='red')\n",
    "plt.plot(n_clusters_log_dbscan, db_scores_log_dbscan, c='blue')\n",
    "plt.plot(n_clusters, db_scores_pca_kmeans, c='yellow')\n",
    "plt.plot(n_clusters, db_scores_log_pca_kmeans, c='green')\n",
    "# plt.plot(n_clusters, ch_scores_log_tsne_kmeans, c='purple')\n",
    "plt.plot(n_clusters_dbscan1, db_scores_log_pca_dbscan, c='teal')\n",
    "plt.plot(n_clusters, db_scores_log_kmeans, c='black')\n",
    "plt.plot(n_clusters, db_scores_log_birch, c='pink')\n",
    "plt.title('Number of Clusters vs. Davies-Bouldin Score')\n",
    "plt.show()"
   ]
  },
  {
   "cell_type": "markdown",
   "id": "ba48b433",
   "metadata": {},
   "source": [
    "## Method 10: log, pca, birch"
   ]
  },
  {
   "cell_type": "code",
   "execution_count": null,
   "id": "4d51589e",
   "metadata": {
    "scrolled": true
   },
   "outputs": [],
   "source": [
    "from sklearn.cluster import Birch\n",
    "\n",
    "sil_scores_log_pca_birch = []\n",
    "ch_scores_log_pca_birch = []\n",
    "db_scores_log_pca_birch = []\n",
    "n_clusters = [2, 3, 4, 5, 6, 7, 8, 9, 10, 11]\n",
    "\n",
    "#dimensionality reduction\n",
    "pca = decomposition.PCA(n_components=2)\n",
    "pca.fit(top_addr_logt)\n",
    "transformed_df = pca.transform(top_addr_logt)\n",
    "\n",
    "x_vals = []\n",
    "y_vals = []\n",
    "for val in transformed_df:\n",
    "    x_vals.append(val[0])\n",
    "    y_vals.append(val[1])\n",
    "\n",
    "\n",
    "for cluster_size in n_clusters:\n",
    "    birch = Birch(n_clusters=cluster_size)\n",
    "    birch.fit(transformed_df)\n",
    "    \n",
    "\n",
    "    #number of addresses per cluster\n",
    "    print('Addresses per cluster')\n",
    "    print(pd.Series(birch.labels_).value_counts())\n",
    "\n",
    "    #scores\n",
    "    sil_score = silhouette_score(transformed_df, birch.labels_, sample_size=100000)\n",
    "    sil_scores_log_pca_birch.append(sil_score)\n",
    "    print('Silhouette score:', sil_score)\n",
    "\n",
    "    ch_score = calinski_harabasz_score(transformed_df, birch.labels_)\n",
    "    ch_scores_log_pca_birch.append(ch_score)\n",
    "    print('Calinski-Harabasz score:', ch_score)\n",
    "\n",
    "    db_score = davies_bouldin_score(transformed_df, birch.labels_)\n",
    "    db_scores_log_pca_birch.append(db_score)\n",
    "    print('Davies-Bouldin score:', db_score)\n",
    "    \n",
    "\n",
    "    \n",
    "    #plot addresses\n",
    "    plt.figure(figsize=[30,30])\n",
    "    plt.scatter(x_vals, y_vals, c=birch.labels_)\n",
    "    plt.xlabel('PC1')\n",
    "    plt.ylabel('PC2')\n",
    "    plt.title('Addresses in {} clusters after log t, pca, and birch clustering'.format(cluster_size))\n",
    "    plt.show()\n",
    "    "
   ]
  },
  {
   "cell_type": "code",
   "execution_count": null,
   "id": "b2e1123d",
   "metadata": {},
   "outputs": [],
   "source": [
    "#create df for clustering results\n",
    "results_df = pd.DataFrame()\n",
    "results_df['n_clusters'] = range(2,12)\n",
    "results_df = results_df.set_index('n_clusters')\n",
    "results_df['raw k-means'] = sil_scores_raw\n",
    "results_df['log, k-means'] = sil_scores_log_kmeans\n",
    "results_df['log, BIRCH'] = sil_scores_log_birch\n",
    "results_df['log, PCA, k-means'] = sil_scores_log_pca_kmeans\n",
    "results_df['log, PCA, BIRCH'] = sil_scores_log_pca_birch\n",
    "results_df['log, PCA, DBSCAN'] = [None, None, None, 0.8785447982724504, None, None, 0.7299287017776335, None, None, None]\n",
    "#add dbscan\n",
    "results_df.head(10)"
   ]
  },
  {
   "cell_type": "code",
   "execution_count": null,
   "id": "ad141df3",
   "metadata": {},
   "outputs": [],
   "source": [
    "print(n_clusters_dbscan1[1:4])\n",
    "print(sil_scores_log_pca_dbscan[1:4])"
   ]
  },
  {
   "cell_type": "code",
   "execution_count": null,
   "id": "2cd71f75",
   "metadata": {},
   "outputs": [],
   "source": [
    "import pandas as pd\n",
    "from tabulate import tabulate\n",
    "method_names = ['1', '2', '3', '4', '5', '6']\n",
    "method_techniques = ['raw k-means', 'log, k-means', 'log, BIRCH', 'log, PCA, k-means', 'log, PCA, BIRCH', 'log, PCA, DBSCAN']\n",
    "method_df = pd.DataFrame()\n",
    "method_df['Method Number'] = method_names\n",
    "method_df['Methods'] = method_techniques\n",
    "method_df = method_df.set_index('Method Number')\n",
    "print(tabulate(method_df, headers = 'keys', tablefmt = 'fancy_grid'))"
   ]
  },
  {
   "cell_type": "code",
   "execution_count": null,
   "id": "d3239b6c",
   "metadata": {},
   "outputs": [],
   "source": [
    "method4_df = pd.DataFrame()\n",
    "method4_df['sil'] = sil_scores_log_pca_kmeans\n",
    "method4_df['ch'] = ch_scores_log_pca_kmeans\n",
    "method4_df['db'] = db_scores_log_pca_kmeans\n",
    "# method4_df.to_csv('tx_m4_scores.csv')"
   ]
  },
  {
   "cell_type": "code",
   "execution_count": null,
   "id": "964b339e",
   "metadata": {
    "scrolled": false
   },
   "outputs": [],
   "source": [
    "#plot all three scores\n",
    "plt.rc('font', size=16)\n",
    "plt.figure(figsize=(10,10))\n",
    "plt.plot(n_clusters, sil_scores_raw, label='1', c='red')\n",
    "# plt.plot(n_clusters_log_dbscan, sil_scores_log_dbscan, c='blue')\n",
    "# plt.plot(n_clusters, sil_scores_pca_kmeans, c='yellow')\n",
    "plt.plot(n_clusters, sil_scores_log_kmeans, label='2', c='blue')\n",
    "plt.plot(n_clusters, sil_scores_log_birch, label='3', c='green')\n",
    "plt.plot(n_clusters, sil_scores_log_pca_kmeans, label='4', c='yellow')\n",
    "plt.plot(n_clusters, sil_scores_log_pca_birch, label='5', c='purple')\n",
    "plt.plot(n_clusters_dbscan1[1:4], sil_scores_log_pca_dbscan[1:4], label='6', c='teal')\n",
    "plt.legend()\n",
    "plt.xlabel('Number of Clusters')\n",
    "plt.ylabel('Silhouette Score')\n",
    "plt.title('Number of Clusters vs. Silhouette Score - Tx Data')\n",
    "plt.xticks(ticks=range(2, 13))\n",
    "plt.grid(visible=True,axis='x')\n",
    "plt.grid(visible=True,axis='y')\n",
    "plt.show()\n",
    "\n",
    "plt.figure(figsize=(10,10))\n",
    "plt.plot(n_clusters, ch_scores_raw, label='1', c='red')\n",
    "# plt.plot(n_clusters_log_dbscan, sil_scores_log_dbscan, c='blue')\n",
    "# plt.plot(n_clusters, sil_scores_pca_kmeans, c='yellow')\n",
    "plt.plot(n_clusters, ch_scores_log_kmeans, label='2', c='blue')\n",
    "plt.plot(n_clusters, ch_scores_log_birch, label='3', c='green')\n",
    "plt.plot(n_clusters, ch_scores_log_pca_kmeans, label='4', c='yellow')\n",
    "plt.plot(n_clusters, ch_scores_log_pca_birch, label='5', c='purple')\n",
    "plt.plot(n_clusters_dbscan1[1:4], ch_scores_log_pca_dbscan[1:4], label='6', c='teal')\n",
    "plt.legend()\n",
    "plt.xlabel('Number of Clusters')\n",
    "plt.ylabel('Calinski-Harabasz Score')\n",
    "plt.title('Number of Clusters vs. Calinski-Harabasz Score - Tx Data')\n",
    "plt.xticks(ticks=range(2, 13))\n",
    "plt.grid(visible=True,axis='x')\n",
    "plt.grid(visible=True,axis='y')\n",
    "plt.show()\n",
    "\n",
    "plt.figure(figsize=(10,10))\n",
    "plt.plot(n_clusters, db_scores_raw, label='1', c='red')\n",
    "# plt.plot(n_clusters_log_dbscan, sil_scores_log_dbscan, c='blue')\n",
    "# plt.plot(n_clusters, sil_scores_pca_kmeans, c='yellow')\n",
    "plt.plot(n_clusters, db_scores_log_kmeans, label='2', c='blue')\n",
    "plt.plot(n_clusters, db_scores_log_birch, label='3', c='green')\n",
    "plt.plot(n_clusters, db_scores_log_pca_kmeans, label='4', c='yellow')\n",
    "plt.plot(n_clusters, db_scores_log_pca_birch, label='5', c='purple')\n",
    "plt.plot(n_clusters_dbscan1[1:4], db_scores_log_pca_dbscan[1:4], label='6', c='teal')\n",
    "plt.legend()\n",
    "plt.xlabel('Number of Clusters')\n",
    "plt.ylabel('Davies-Bouldin Score')\n",
    "plt.title('Number of Clusters vs. Davies-Bouldin Score - Tx Data')\n",
    "plt.xticks(ticks=range(2, 13))\n",
    "plt.grid(visible=True,axis='x')\n",
    "plt.grid(visible=True,axis='y')\n",
    "plt.show()"
   ]
  },
  {
   "cell_type": "code",
   "execution_count": null,
   "id": "ef1e1a9e",
   "metadata": {},
   "outputs": [],
   "source": []
  }
 ],
 "metadata": {
  "kernelspec": {
   "display_name": "Python 3 (ipykernel)",
   "language": "python",
   "name": "python3"
  },
  "language_info": {
   "codemirror_mode": {
    "name": "ipython",
    "version": 3
   },
   "file_extension": ".py",
   "mimetype": "text/x-python",
   "name": "python",
   "nbconvert_exporter": "python",
   "pygments_lexer": "ipython3",
   "version": "3.9.7"
  }
 },
 "nbformat": 4,
 "nbformat_minor": 5
}
