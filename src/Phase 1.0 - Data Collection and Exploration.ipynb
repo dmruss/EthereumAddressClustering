{
 "cells": [
  {
   "cell_type": "code",
   "execution_count": null,
   "id": "d4442514",
   "metadata": {},
   "outputs": [],
   "source": [
    "import numpy as np\n",
    "import pandas as pd\n",
    "import matplotlib.pyplot as plt\n",
    "import igraph\n",
    "import csv"
   ]
  },
  {
   "cell_type": "markdown",
   "id": "0ce6b24a",
   "metadata": {},
   "source": [
    "# Import Data"
   ]
  },
  {
   "cell_type": "code",
   "execution_count": null,
   "id": "a04658a6",
   "metadata": {},
   "outputs": [],
   "source": [
    "import sqlite3\n",
    "conn = sqlite3.connect('C:\\sqlite\\eth.db')"
   ]
  },
  {
   "cell_type": "code",
   "execution_count": null,
   "id": "610670df",
   "metadata": {},
   "outputs": [],
   "source": [
    "cur = conn.cursor()"
   ]
  },
  {
   "cell_type": "markdown",
   "id": "e240db1f",
   "metadata": {},
   "source": [
    "## Metadata\n",
    "  ____________"
   ]
  },
  {
   "cell_type": "markdown",
   "id": "21ceec4a",
   "metadata": {},
   "source": [
    "### Transaction count"
   ]
  },
  {
   "cell_type": "code",
   "execution_count": null,
   "id": "51ec7b62",
   "metadata": {},
   "outputs": [],
   "source": [
    "transact_count = cur.execute('''SELECT COUNT(hash) FROM transactions''').fetchall()[0][0]\n",
    "print('Total transactions:', transact_count)"
   ]
  },
  {
   "cell_type": "markdown",
   "id": "9cc4dea9",
   "metadata": {},
   "source": [
    "### Address count"
   ]
  },
  {
   "cell_type": "code",
   "execution_count": null,
   "id": "061bf44f",
   "metadata": {},
   "outputs": [],
   "source": [
    "from_addresses = cur.execute('''SELECT from_address FROM transactions''').fetchall()\n",
    "to_addresses = cur.execute('''SELECT to_address FROM transactions''').fetchall()\n"
   ]
  },
  {
   "cell_type": "code",
   "execution_count": null,
   "id": "d81f6e51",
   "metadata": {},
   "outputs": [],
   "source": [
    "from_addresses = [item[0] for item in from_addresses]\n",
    "to_addresses = [item[0] for item in to_addresses]"
   ]
  },
  {
   "cell_type": "code",
   "execution_count": null,
   "id": "16a11830",
   "metadata": {},
   "outputs": [],
   "source": [
    "print('from addresses', len(from_addresses))\n",
    "print('to addresses', len(to_addresses))\n",
    "from_addresses[5]"
   ]
  },
  {
   "cell_type": "markdown",
   "id": "4f31ce2f",
   "metadata": {},
   "source": [
    "### Replace null vals with contract creation"
   ]
  },
  {
   "cell_type": "code",
   "execution_count": null,
   "id": "3d618f22",
   "metadata": {},
   "outputs": [],
   "source": [
    "to_addresses_nonull = []\n",
    "for addr in to_addresses:\n",
    "    if addr != '': to_addresses_nonull.append(addr)\n",
    "    else: to_addresses_nonull.append('contract_creation')"
   ]
  },
  {
   "cell_type": "code",
   "execution_count": null,
   "id": "abee9102",
   "metadata": {},
   "outputs": [],
   "source": [
    "print('Unique from addresses:', len(set(from_addresses)))\n",
    "print('Unique to addresses:', len(set(to_addresses)))"
   ]
  },
  {
   "cell_type": "code",
   "execution_count": null,
   "id": "d2549adc",
   "metadata": {},
   "outputs": [],
   "source": [
    "all_addresses_unique = []\n",
    "from_addresses_np = np.array(from_addresses)\n",
    "from_addresses_unique = np.unique(from_addresses_np)\n"
   ]
  },
  {
   "cell_type": "code",
   "execution_count": null,
   "id": "590d0514",
   "metadata": {},
   "outputs": [],
   "source": [
    "len(from_addresses_unique)"
   ]
  },
  {
   "cell_type": "code",
   "execution_count": null,
   "id": "d73b3122",
   "metadata": {},
   "outputs": [],
   "source": [
    "to_addresses_np = np.array(to_addresses_nonull)\n",
    "to_addresses_unique = np.unique(to_addresses_np)\n",
    "len(to_addresses_unique)"
   ]
  },
  {
   "cell_type": "code",
   "execution_count": null,
   "id": "2253ae56",
   "metadata": {},
   "outputs": [],
   "source": [
    "all_addresses_unique = np.concatenate((from_addresses_unique, to_addresses_unique), axis=None)\n",
    "all_addresses_unique = np.unique(all_addresses_unique)\n",
    "print(len(all_addresses_unique))"
   ]
  },
  {
   "cell_type": "code",
   "execution_count": null,
   "id": "5fb891a2",
   "metadata": {},
   "outputs": [],
   "source": [
    "with open('unique_addresses.csv', 'w', newline='') as f:\n",
    "    csvWriter=csv.writer(f)\n",
    "    for addr in all_addresses_unique:\n",
    "        csvWriter.writerow([addr])"
   ]
  },
  {
   "cell_type": "code",
   "execution_count": null,
   "id": "1897c2bf",
   "metadata": {},
   "outputs": [],
   "source": [
    "all_addresses_unique[0:5]"
   ]
  },
  {
   "cell_type": "markdown",
   "id": "698ba8c7",
   "metadata": {},
   "source": [
    "### Timeframe"
   ]
  },
  {
   "cell_type": "code",
   "execution_count": null,
   "id": "b39fad77",
   "metadata": {},
   "outputs": [],
   "source": [
    "dates = cur.execute('''SELECT MIN(block_timestamp), MAX(block_timestamp) FROM transactions''').fetchall()\n",
    "import datetime\n",
    "print('Start date:', datetime.datetime.fromtimestamp(dates[0][0]))\n",
    "print('End date:', datetime.datetime.fromtimestamp(dates[0][1]))\n",
    "print('Days in dataset:', datetime.datetime.fromtimestamp(dates[0][1]) - datetime.datetime.fromtimestamp(dates[0][0]))"
   ]
  },
  {
   "cell_type": "markdown",
   "id": "cf5cd3ed",
   "metadata": {},
   "source": [
    "### Blocks"
   ]
  },
  {
   "cell_type": "code",
   "execution_count": null,
   "id": "6a3670cd",
   "metadata": {},
   "outputs": [],
   "source": [
    "#The beginning and ending block for the dataset\n",
    "blocks = cur.execute('''SELECT MIN(block_number), MAX(block_number) FROM transactions''').fetchall()\n",
    "print('First block:', blocks[0][0])\n",
    "print('Last block:', blocks[0][1])\n",
    "print('Difference:', blocks[0][1] - blocks[0][0], 'blocks')"
   ]
  },
  {
   "cell_type": "markdown",
   "id": "1330ff6c",
   "metadata": {},
   "source": [
    "## Column Statistics\n",
    "____________________"
   ]
  },
  {
   "cell_type": "markdown",
   "id": "898f5985",
   "metadata": {},
   "source": [
    "### Read in cols from db"
   ]
  },
  {
   "cell_type": "code",
   "execution_count": null,
   "id": "89e5e3cf",
   "metadata": {},
   "outputs": [],
   "source": [
    "value = cur.execute('''SELECT value FROM transactions''').fetchall()"
   ]
  },
  {
   "cell_type": "code",
   "execution_count": null,
   "id": "03c50d4a",
   "metadata": {},
   "outputs": [],
   "source": [
    "value = [item[0] for item in value]"
   ]
  },
  {
   "cell_type": "code",
   "execution_count": null,
   "id": "12b0c0af",
   "metadata": {},
   "outputs": [],
   "source": [
    "gas = cur.execute('''SELECT gas FROM transactions''').fetchall()"
   ]
  },
  {
   "cell_type": "code",
   "execution_count": null,
   "id": "4d9ecb1b",
   "metadata": {},
   "outputs": [],
   "source": [
    "gas = [item[0] for item in gas]"
   ]
  },
  {
   "cell_type": "code",
   "execution_count": null,
   "id": "edd42ba1",
   "metadata": {},
   "outputs": [],
   "source": [
    "nonce = cur.execute('''SELECT nonce FROM transactions''').fetchall()"
   ]
  },
  {
   "cell_type": "code",
   "execution_count": null,
   "id": "84b6ffc7",
   "metadata": {},
   "outputs": [],
   "source": [
    "nonce = [item[0] for item in nonce]"
   ]
  },
  {
   "cell_type": "code",
   "execution_count": null,
   "id": "5809c885",
   "metadata": {},
   "outputs": [],
   "source": [
    "gas_price = cur.execute('''SELECT gas_price FROM transactions''').fetchall()"
   ]
  },
  {
   "cell_type": "code",
   "execution_count": null,
   "id": "93af6e16",
   "metadata": {},
   "outputs": [],
   "source": [
    "gas_price = [item[0] for item in gas_price]"
   ]
  },
  {
   "cell_type": "markdown",
   "id": "1a847f93",
   "metadata": {},
   "source": [
    "### Cols to df"
   ]
  },
  {
   "cell_type": "code",
   "execution_count": null,
   "id": "a56328be",
   "metadata": {},
   "outputs": [],
   "source": [
    "cols = {'value': value, 'gas': gas, 'nonce': nonce, 'gas_price': gas_price}\n",
    "attr_col_df = pd.DataFrame(data=cols)"
   ]
  },
  {
   "cell_type": "markdown",
   "id": "a6343cd5",
   "metadata": {},
   "source": [
    "### Calc stats on cols"
   ]
  },
  {
   "cell_type": "code",
   "execution_count": null,
   "id": "9fc391fd",
   "metadata": {},
   "outputs": [],
   "source": [
    "col_stats = {'name': [], 'min': [], 'max': [], 'mean': [], 'std': [], 'var': [], 'skew': []}\n"
   ]
  },
  {
   "cell_type": "code",
   "execution_count": null,
   "id": "5fc18769",
   "metadata": {},
   "outputs": [],
   "source": [
    "for col in cols.keys():\n",
    "    col_stats['name'].append(col)\n",
    "    col_stats['min'].append(np.min(cols[col]))\n",
    "    col_stats['max'].append(np.max(cols[col]))\n",
    "    col_stats['mean'].append(np.mean(cols[col]))\n",
    "    col_stats['std'].append(np.std(cols[col]))\n",
    "    col_stats['var'].append(np.var(cols[col]))\n",
    "    col_stats['skew'].append(attr_col_df[col].skew())"
   ]
  },
  {
   "cell_type": "code",
   "execution_count": null,
   "id": "3157ca16",
   "metadata": {
    "scrolled": true
   },
   "outputs": [],
   "source": [
    "col_stats_df = pd.DataFrame(data=col_stats)\n",
    "col_stats_df"
   ]
  },
  {
   "cell_type": "markdown",
   "id": "9e7ed01f",
   "metadata": {},
   "source": []
  },
  {
   "cell_type": "markdown",
   "id": "5bd20e78",
   "metadata": {},
   "source": [
    "## Handling skewness"
   ]
  },
  {
   "cell_type": "code",
   "execution_count": null,
   "id": "e9449308",
   "metadata": {},
   "outputs": [],
   "source": [
    "col_df_adj = pd.DataFrame()"
   ]
  },
  {
   "cell_type": "code",
   "execution_count": null,
   "id": "ec82c7c1",
   "metadata": {},
   "outputs": [],
   "source": [
    "value_adj = [item+1 for item in value]\n",
    "col_df_adj['value_adj'] = np.log(value_adj)\n",
    "print('Skewness:', col_df_adj['value_adj'].skew())"
   ]
  },
  {
   "cell_type": "code",
   "execution_count": null,
   "id": "e63f9072",
   "metadata": {},
   "outputs": [],
   "source": [
    "col_df_adj['gas_adj'] = np.log(gas)\n",
    "print('Skewness:', col_df_adj['gas_adj'].skew())"
   ]
  },
  {
   "cell_type": "code",
   "execution_count": null,
   "id": "9d72e884",
   "metadata": {},
   "outputs": [],
   "source": [
    "col_df_adj['nonce_adj'] = np.log(nonce)\n",
    "print('Skewness:', col_df_adj['nonce_adj'].skew())"
   ]
  },
  {
   "cell_type": "code",
   "execution_count": null,
   "id": "e4196d3b",
   "metadata": {},
   "outputs": [],
   "source": [
    "col_df_adj['gas_price'] = np.log(gas_price)\n",
    "print('Skewness:',col_df_adj['gas_price'].skew())"
   ]
  },
  {
   "cell_type": "markdown",
   "id": "e0cff18d",
   "metadata": {},
   "source": [
    "## Histograms"
   ]
  },
  {
   "cell_type": "code",
   "execution_count": null,
   "id": "39d94057",
   "metadata": {},
   "outputs": [],
   "source": [
    "fig, ax = plt.subplots(2, 2)\n",
    "fig.set_size_inches(17, 8)\n",
    "fig.tight_layout()\n",
    "col = 0\n",
    "for i in range(2):\n",
    "    for j in range(2):\n",
    "        ax[i][j].hist(col_df_adj[col_df_adj.columns[col]], bins=100)\n",
    "        ax[i][j].set_title(col_df_adj.columns[col] +' Log transformed')\n",
    "        col += 1"
   ]
  },
  {
   "cell_type": "markdown",
   "id": "41fc7f0f",
   "metadata": {},
   "source": [
    "## Scatterplots"
   ]
  },
  {
   "cell_type": "code",
   "execution_count": null,
   "id": "0603f92a",
   "metadata": {
    "scrolled": false
   },
   "outputs": [],
   "source": [
    "value = col_df_adj['value_adj']\n",
    "fig, ax = plt.subplots(4, 4)\n",
    "fig.set_size_inches(17, 8)\n",
    "fig.tight_layout()\n",
    "col = 0\n",
    "for i in range(4):\n",
    "    ax[0][i].scatter(col_df_adj[col_df_adj.columns[col]], col_df_adj['value_adj'])\n",
    "    ax[0][i].set_title(col_df_adj.columns[col] +' vs. Value')\n",
    "    col += 1\n",
    "col = 0\n",
    "for j in range(4):\n",
    "    ax[1][j].scatter(col_df_adj[col_df_adj.columns[col]], col_df_adj['gas'])\n",
    "    ax[1][j].set_title(col_df_adj.columns[col] +' vs. Gas')\n",
    "    col += 1\n",
    "col = 0\n",
    "for k in range(4):\n",
    "    ax[2][k].scatter(col_df_adj[col_df_adj.columns[col]], col_df_adj['nonce_adj'])\n",
    "    ax[2][k].set_title(col_df_adj.columns[col] +' vs. Nonce')\n",
    "    col += 1\n",
    "col = 0\n",
    "for l in range(4):\n",
    "    ax[3][l].scatter(col_df_adj[col_df_adj.columns[col]], col_df_adj['gas_price'])\n",
    "    ax[3][l].set_title(col_df_adj.columns[col] +' vs. Gas Price')\n",
    "    col += 1\n",
    "plt.show()"
   ]
  },
  {
   "cell_type": "markdown",
   "id": "1221816b",
   "metadata": {},
   "source": [
    "# Build unique address dataset\n",
    "___"
   ]
  },
  {
   "cell_type": "markdown",
   "id": "6c8c85d4",
   "metadata": {},
   "source": [
    "### Build a transaction lookup table"
   ]
  },
  {
   "cell_type": "code",
   "execution_count": null,
   "id": "e24915e9",
   "metadata": {},
   "outputs": [],
   "source": [
    "from_address_index = {}\n",
    "to_address_index = {}\n",
    "\n",
    "for address in all_addresses_unique:\n",
    "    from_address_index[address] = []\n",
    "    to_address_index[address] = []"
   ]
  },
  {
   "cell_type": "code",
   "execution_count": null,
   "id": "86a5b2b8",
   "metadata": {},
   "outputs": [],
   "source": [
    "for index in range(len(from_addresses)):\n",
    "        address = from_addresses[index]\n",
    "        from_address_index[address].append(index)\n",
    "for index in range(len(to_addresses)):\n",
    "        address = to_addresses[index]\n",
    "        to_address_index[address].append(index)"
   ]
  },
  {
   "cell_type": "markdown",
   "id": "334bcfd7",
   "metadata": {},
   "source": [
    "### Dataframe"
   ]
  },
  {
   "cell_type": "code",
   "execution_count": null,
   "id": "2f6dd230",
   "metadata": {},
   "outputs": [],
   "source": [
    "address_data = {'address': all_addresses_unique, 'send_count': [], 'receive_count': [], 'avg_gas_cost': [], 'total_eth_sent': [], 'total_eth_recv': [], 'max_nonce': []}\n",
    "\n",
    "\n",
    "for address in all_addresses_unique:\n",
    "    address_data['send_count'].append(len(from_address_index[address]))\n",
    "    address_data['receive_count'].append(len(to_address_index[address]))\n",
    "\n"
   ]
  },
  {
   "cell_type": "code",
   "execution_count": null,
   "id": "e5bf5550",
   "metadata": {},
   "outputs": [],
   "source": [
    "print(len(address_data['address']))\n",
    "print(len(address_data['send_count']))\n",
    "print(len(address_data['receive_count']))"
   ]
  },
  {
   "cell_type": "markdown",
   "id": "020fe736",
   "metadata": {},
   "source": [
    "### Avg gas cost"
   ]
  },
  {
   "cell_type": "code",
   "execution_count": null,
   "id": "a09a327b",
   "metadata": {},
   "outputs": [],
   "source": [
    "for address in all_addresses_unique:\n",
    "    num_sends = len(from_address_index[address])\n",
    "    if num_sends == 0: \n",
    "        address_data['avg_gas_cost'].append(0)\n",
    "        continue\n",
    "    gas_paid = 0\n",
    "    for transact_index in from_address_index[address]:\n",
    "        gas_paid += gas[transact_index] * gas_price[transact_index]\n",
    "    avg_gas_cost = gas_paid / num_sends\n",
    "    address_data['avg_gas_cost'].append(avg_gas_cost)\n",
    "    \n",
    "    "
   ]
  },
  {
   "cell_type": "code",
   "execution_count": null,
   "id": "527bc543",
   "metadata": {
    "scrolled": true
   },
   "outputs": [],
   "source": [
    "len(address_data['avg_gas_cost'])"
   ]
  },
  {
   "cell_type": "markdown",
   "id": "aefee12e",
   "metadata": {},
   "source": [
    "### Total eth sent"
   ]
  },
  {
   "cell_type": "code",
   "execution_count": null,
   "id": "a6b92f13",
   "metadata": {},
   "outputs": [],
   "source": [
    "for address in all_addresses_unique:\n",
    "    num_sends = len(from_address_index[address])\n",
    "    if num_sends == 0:\n",
    "        address_data['total_eth_sent'].append(0)\n",
    "        continue\n",
    "    total_eth_sent = 0\n",
    "    for transact_index in from_address_index[address]:\n",
    "        total_eth_sent += value[transact_index]\n",
    "    address_data['total_eth_sent'].append(total_eth_sent)"
   ]
  },
  {
   "cell_type": "markdown",
   "id": "57a0b38a",
   "metadata": {},
   "source": [
    "### Total eth received"
   ]
  },
  {
   "cell_type": "code",
   "execution_count": null,
   "id": "a7077f3f",
   "metadata": {},
   "outputs": [],
   "source": [
    "for address in all_addresses_unique:\n",
    "    num_recv = len(to_address_index[address])\n",
    "    if num_recv == 0:\n",
    "        address_data['total_eth_recv'].append(0)\n",
    "        continue\n",
    "    total_eth_recv = 0\n",
    "    for transact_index in to_address_index[address]:\n",
    "        total_eth_recv += value[transact_index]\n",
    "    address_data['total_eth_recv'].append(total_eth_recv)"
   ]
  },
  {
   "cell_type": "markdown",
   "id": "a33801f4",
   "metadata": {},
   "source": [
    "### Max nonce"
   ]
  },
  {
   "cell_type": "code",
   "execution_count": null,
   "id": "7092d3f2",
   "metadata": {},
   "outputs": [],
   "source": [
    "for address in all_addresses_unique:\n",
    "    num_sends = len(from_address_index[address])\n",
    "    if num_sends == 0:\n",
    "        address_data['max_nonce'].append(0)\n",
    "        continue\n",
    "    max_nonce = 0\n",
    "    for transact_index in from_address_index[address]:\n",
    "        if nonce[transact_index] > max_nonce:\n",
    "            max_nonce = nonce[transact_index]\n",
    "    address_data['max_nonce'].append(max_nonce)"
   ]
  },
  {
   "cell_type": "markdown",
   "id": "f94e59e8",
   "metadata": {},
   "source": [
    "### Create DataFrame"
   ]
  },
  {
   "cell_type": "code",
   "execution_count": null,
   "id": "d209cc0b",
   "metadata": {},
   "outputs": [],
   "source": [
    "address_df = pd.DataFrame(data=address_data)"
   ]
  },
  {
   "cell_type": "code",
   "execution_count": null,
   "id": "f39f5061",
   "metadata": {},
   "outputs": [],
   "source": [
    "address_df.loc[0, 'address'] = 'contract_creation'"
   ]
  },
  {
   "cell_type": "code",
   "execution_count": null,
   "id": "846bd377",
   "metadata": {},
   "outputs": [],
   "source": [
    "address_df.head()\n"
   ]
  },
  {
   "cell_type": "code",
   "execution_count": null,
   "id": "d03f3f79",
   "metadata": {},
   "outputs": [],
   "source": [
    "address_df.to_csv('address_df.csv')"
   ]
  },
  {
   "cell_type": "code",
   "execution_count": null,
   "id": "a0eb95ff",
   "metadata": {},
   "outputs": [],
   "source": [
    "address_df.loc[address_df['receive_count'] == address_df['receive_count'].max()]\n",
    "#This address belongs to OpenSea"
   ]
  },
  {
   "cell_type": "code",
   "execution_count": null,
   "id": "f11c26ab",
   "metadata": {},
   "outputs": [],
   "source": [
    "address_df.loc[address_df['send_count'] == address_df['send_count'].max()]\n",
    "#This address belongs to a miner"
   ]
  }
 ],
 "metadata": {
  "kernelspec": {
   "display_name": "Python 3 (ipykernel)",
   "language": "python",
   "name": "python3"
  },
  "language_info": {
   "codemirror_mode": {
    "name": "ipython",
    "version": 3
   },
   "file_extension": ".py",
   "mimetype": "text/x-python",
   "name": "python",
   "nbconvert_exporter": "python",
   "pygments_lexer": "ipython3",
   "version": "3.9.7"
  }
 },
 "nbformat": 4,
 "nbformat_minor": 5
}
