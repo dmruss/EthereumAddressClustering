{
 "cells": [
  {
   "cell_type": "code",
   "execution_count": null,
   "id": "19a99c2b",
   "metadata": {},
   "outputs": [],
   "source": [
    "import numpy as np\n",
    "import pandas as pd\n",
    "import matplotlib.pyplot as plt\n",
    "import igraph\n",
    "import csv"
   ]
  },
  {
   "cell_type": "code",
   "execution_count": null,
   "id": "cea57421",
   "metadata": {},
   "outputs": [],
   "source": [
    "#read in top 10k addresses with manual labels\n",
    "top_10k = pd.read_csv('../data/top_10k_addr_only.csv')\n",
    "#convert to dataframe\n",
    "top_10k_df = pd.DataFrame(data=top_10k)\n",
    "top_10k_df.head()\n",
    "top_10k_df = top_10k_df.set_index('address')"
   ]
  },
  {
   "cell_type": "code",
   "execution_count": null,
   "id": "92f3acac",
   "metadata": {},
   "outputs": [],
   "source": [
    "top_10k_df = top_10k_df.drop('Unnamed: 0', axis=1)"
   ]
  },
  {
   "cell_type": "code",
   "execution_count": null,
   "id": "e77c0f74",
   "metadata": {},
   "outputs": [],
   "source": [
    "top_10k_df.head()"
   ]
  },
  {
   "cell_type": "code",
   "execution_count": null,
   "id": "22d0a475",
   "metadata": {},
   "outputs": [],
   "source": [
    "np.sum(top_10k_df.isnull())"
   ]
  },
  {
   "cell_type": "code",
   "execution_count": null,
   "id": "8b5bc5d2",
   "metadata": {},
   "outputs": [],
   "source": [
    "labels = top_10k_df['label']"
   ]
  },
  {
   "cell_type": "markdown",
   "id": "33e0ce20",
   "metadata": {},
   "source": [
    "# Top addresses with c2 clusters and labels"
   ]
  },
  {
   "cell_type": "code",
   "execution_count": null,
   "id": "971e8be2",
   "metadata": {},
   "outputs": [],
   "source": [
    "addr_pca_kmeans = pd.read_csv('../data/addresses_pca_kmeans_graph.csv', index_col=0)\n",
    "addr_pca_kmeans_df = pd.DataFrame(data=addr_pca_kmeans)\n",
    "addr_pca_kmeans_df['label'] = labels\n",
    "addr_pca_kmeans_df.head()"
   ]
  },
  {
   "cell_type": "code",
   "execution_count": null,
   "id": "4908ccae",
   "metadata": {},
   "outputs": [],
   "source": [
    "addr_pca_kmeans_df['label'] = labels"
   ]
  },
  {
   "cell_type": "code",
   "execution_count": null,
   "id": "288f3593",
   "metadata": {
    "scrolled": true
   },
   "outputs": [],
   "source": [
    "addr_pca_kmeans_df.describe()"
   ]
  },
  {
   "cell_type": "code",
   "execution_count": null,
   "id": "547b37bf",
   "metadata": {},
   "outputs": [],
   "source": [
    "print(addr_pca_kmeans_df['label'].value_counts())"
   ]
  },
  {
   "cell_type": "code",
   "execution_count": null,
   "id": "e8a638d5",
   "metadata": {},
   "outputs": [],
   "source": [
    "label_as_int = {}\n",
    "count = 0\n",
    "for label in set(addr_pca_kmeans['label']):\n",
    "    label_as_int[label] = count\n",
    "    count += 1"
   ]
  },
  {
   "cell_type": "code",
   "execution_count": null,
   "id": "02ccbba6",
   "metadata": {},
   "outputs": [],
   "source": [
    "print(label_as_int)"
   ]
  },
  {
   "cell_type": "code",
   "execution_count": null,
   "id": "44143d62",
   "metadata": {},
   "outputs": [],
   "source": [
    "label_int_list = []\n",
    "for label in addr_pca_kmeans['label']:\n",
    "    label_int_list.append(label_as_int[label])"
   ]
  },
  {
   "cell_type": "code",
   "execution_count": null,
   "id": "4937702b",
   "metadata": {
    "scrolled": true
   },
   "outputs": [],
   "source": [
    "plt.figure(figsize=(30,30))\n",
    "scatter = plt.scatter(addr_pca_kmeans['pca_x_vals'], addr_pca_kmeans['pca_y_vals'], c=label_int_list, cmap=\"tab20\", marker=\"o\")\n",
    "plt.xlabel('PC1')\n",
    "plt.ylabel('PC2')\n",
    "plt.title('Top Addresses in 4 Clusters')\n",
    "legend1 = plt.legend(*scatter.legend_elements(num=10),\n",
    "                    loc=\"lower left\", title=\"Classes\")\n",
    "plt.show()"
   ]
  },
  {
   "cell_type": "code",
   "execution_count": null,
   "id": "796cbc1f",
   "metadata": {},
   "outputs": [],
   "source": [
    "#separate clusters into 4 dataframes\n",
    "cluster0 = addr_pca_kmeans_df[addr_pca_kmeans_df['clusters'] == 0]\n",
    "cluster1 = addr_pca_kmeans_df[addr_pca_kmeans_df['clusters'] == 1]\n",
    "cluster2 = addr_pca_kmeans_df[addr_pca_kmeans_df['clusters'] == 2]\n",
    "cluster3 = addr_pca_kmeans_df[addr_pca_kmeans_df['clusters'] == 3]\n",
    "cluster0.head()"
   ]
  },
  {
   "cell_type": "code",
   "execution_count": null,
   "id": "1431109b",
   "metadata": {
    "scrolled": true
   },
   "outputs": [],
   "source": [
    "cluster0.describe()"
   ]
  },
  {
   "cell_type": "code",
   "execution_count": null,
   "id": "ef7254d4",
   "metadata": {},
   "outputs": [],
   "source": [
    "# cluster0.sort_values(by='total_eth_trans', ascending=False).head(30)"
   ]
  },
  {
   "cell_type": "code",
   "execution_count": null,
   "id": "7105e0c1",
   "metadata": {
    "scrolled": true
   },
   "outputs": [],
   "source": [
    "cluster1.describe()"
   ]
  },
  {
   "cell_type": "code",
   "execution_count": null,
   "id": "4e0ee47e",
   "metadata": {},
   "outputs": [],
   "source": [
    "# cluster1.sort_values(by='total_eth_trans', ascending=False).head(30)"
   ]
  },
  {
   "cell_type": "code",
   "execution_count": null,
   "id": "31a112f2",
   "metadata": {},
   "outputs": [],
   "source": [
    "cluster2.describe()"
   ]
  },
  {
   "cell_type": "code",
   "execution_count": null,
   "id": "b17d638e",
   "metadata": {},
   "outputs": [],
   "source": [
    "# cluster2.sort_values(by='total_eth_trans', ascending=False).head(30)"
   ]
  },
  {
   "cell_type": "code",
   "execution_count": null,
   "id": "37adda0d",
   "metadata": {},
   "outputs": [],
   "source": [
    "cluster3.describe()"
   ]
  },
  {
   "cell_type": "code",
   "execution_count": null,
   "id": "12f08fc8",
   "metadata": {
    "scrolled": false
   },
   "outputs": [],
   "source": [
    "for col in cluster0.keys():\n",
    "    if col not in ['address', 'clusters', 'pca_x_vals', 'pca_y_vals', 'label']:\n",
    "        cluster0[col].plot.hist(stacked=True,bins=200)\n",
    "        cluster1[col].plot.hist(stacked=True,bins=200)\n",
    "        cluster2[col].plot.hist(stacked=True,bins=200)\n",
    "        cluster3[col].plot.hist(stacked=True,bins=200)\n",
    "        plt.title(col)\n",
    "        plt.ylabel('count')\n",
    "        plt.xlabel('')\n",
    "        plt.show()"
   ]
  },
  {
   "cell_type": "markdown",
   "id": "be4620ab",
   "metadata": {},
   "source": [
    "# Label data from kaggle, no overlap with top addresses"
   ]
  },
  {
   "cell_type": "code",
   "execution_count": null,
   "id": "4c427f77",
   "metadata": {},
   "outputs": [],
   "source": [
    "#read in labelled addresses from kaggle\n",
    "labelled_addr = pd.read_csv('../data/eth_addresses.csv')\n",
    "#convert to dataframe\n",
    "labelled_addr_df = pd.DataFrame(data=labelled_addr)\n",
    "labelled_addr_df.head()\n"
   ]
  },
  {
   "cell_type": "code",
   "execution_count": null,
   "id": "7b2f69d2",
   "metadata": {},
   "outputs": [],
   "source": [
    "labelled_addr_entity = labelled_addr_df[0:1646]\n",
    "len(labelled_addr_entity)\n",
    "labelled_addr_df['Address'].loc[0]"
   ]
  },
  {
   "cell_type": "code",
   "execution_count": null,
   "id": "14f3aea0",
   "metadata": {},
   "outputs": [],
   "source": [
    "#add entity column to top 10k adresses dataframe\n",
    "labels = []\n",
    "for address in top_10k_df['address']:\n",
    "    print(address)\n",
    "    if address in labelled_addr_df['Address']:\n",
    "        print(address)\n",
    "        row = labelled_addr_df[labelled_addr_df['Address'] == address]\n",
    "        labels.append(row['Account Type'])\n",
    "    else:\n",
    "        labels.append('')"
   ]
  },
  {
   "cell_type": "code",
   "execution_count": null,
   "id": "abfe5cf3",
   "metadata": {},
   "outputs": [],
   "source": [
    "top_10k_df['entity'] = labels\n",
    "len(top_10k_df[top_10k_df['entity'] != ''])"
   ]
  }
 ],
 "metadata": {
  "kernelspec": {
   "display_name": "Python 3 (ipykernel)",
   "language": "python",
   "name": "python3"
  },
  "language_info": {
   "codemirror_mode": {
    "name": "ipython",
    "version": 3
   },
   "file_extension": ".py",
   "mimetype": "text/x-python",
   "name": "python",
   "nbconvert_exporter": "python",
   "pygments_lexer": "ipython3",
   "version": "3.9.7"
  }
 },
 "nbformat": 4,
 "nbformat_minor": 5
}
