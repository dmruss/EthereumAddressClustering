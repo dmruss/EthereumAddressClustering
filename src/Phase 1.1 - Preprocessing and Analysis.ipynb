{
 "cells": [
  {
   "cell_type": "code",
   "execution_count": null,
   "id": "9be979c0",
   "metadata": {},
   "outputs": [],
   "source": [
    "import pandas as pd\n",
    "import numpy as np\n",
    "import matplotlib.pyplot as plt"
   ]
  },
  {
   "cell_type": "markdown",
   "id": "265b1a88",
   "metadata": {},
   "source": [
    "## Import Transaction dataset"
   ]
  },
  {
   "cell_type": "code",
   "execution_count": null,
   "id": "696f2dac",
   "metadata": {},
   "outputs": [],
   "source": [
    "address_df = pd.read_csv('../data/address_df.csv')"
   ]
  },
  {
   "cell_type": "code",
   "execution_count": null,
   "id": "aac30fce",
   "metadata": {},
   "outputs": [],
   "source": [
    "print(address_df.keys())\n",
    "address_df = pd.DataFrame(data=address_df)\n",
    "address_df = address_df.drop('Unnamed: 0', axis=1)"
   ]
  },
  {
   "cell_type": "code",
   "execution_count": null,
   "id": "ad749723",
   "metadata": {},
   "outputs": [],
   "source": [
    "address_df.head()"
   ]
  },
  {
   "cell_type": "code",
   "execution_count": null,
   "id": "f8ea7ce2",
   "metadata": {},
   "outputs": [],
   "source": [
    "address_df['total_eth_sent']"
   ]
  },
  {
   "cell_type": "code",
   "execution_count": null,
   "id": "e3777d40",
   "metadata": {},
   "outputs": [],
   "source": [
    "send_plus_one = address_df['send_count'] +1"
   ]
  },
  {
   "cell_type": "markdown",
   "id": "95870ef0",
   "metadata": {},
   "source": [
    "## Plot histograms for all log transformed transaction statistics"
   ]
  },
  {
   "cell_type": "code",
   "execution_count": null,
   "id": "e6bdfe59",
   "metadata": {},
   "outputs": [],
   "source": [
    "send_log = np.log(send_plus_one)\n",
    "plt.hist(send_log, bins=20)\n",
    "plt.title('Sends per address')\n",
    "plt.show()"
   ]
  },
  {
   "cell_type": "code",
   "execution_count": null,
   "id": "c81341e7",
   "metadata": {},
   "outputs": [],
   "source": [
    "recv_plus_one = address_df['receive_count'] +1\n",
    "recv_log = np.log(recv_plus_one)\n",
    "plt.hist(recv_log, bins=100)\n",
    "plt.title('Receives per address')\n",
    "plt.show()"
   ]
  },
  {
   "cell_type": "code",
   "execution_count": null,
   "id": "81c95148",
   "metadata": {},
   "outputs": [],
   "source": [
    "gas_plus_one = address_df['avg_gas_cost'] +1\n",
    "gas_log = np.log(gas_plus_one)\n",
    "plt.title('Average gas cost per address')\n",
    "plt.hist(gas_log, bins=300)\n",
    "plt.show()"
   ]
  },
  {
   "cell_type": "code",
   "execution_count": null,
   "id": "c3363663",
   "metadata": {},
   "outputs": [],
   "source": [
    "sent_plus_one = [float(x)+1 for x in address_df['total_eth_sent']]\n",
    "value_sent_log = np.log(sent_plus_one)\n",
    "plt.hist(value_sent_log, bins = 100)\n",
    "plt.title('Total eth sent per address')\n",
    "plt.show()"
   ]
  },
  {
   "cell_type": "code",
   "execution_count": null,
   "id": "179ceb06",
   "metadata": {},
   "outputs": [],
   "source": [
    "#export df of addresses with greater than 20 log scale eth sent\n",
    "address_df_sent_log = address_df.copy()\n",
    "address_df_sent_log['sent_log'] = value_sent_log\n",
    "# address_df_sent_log_1 = address_df_sent_log[address_df_sent_log['sent_log'] < 20]\n",
    "# address_df_sent_log_2 = address_df_sent_log[address_df_sent_log['sent_log'] >= 20]\n",
    "# address_df_sent_log_1.to_csv('address_sent_log_1.csv')\n",
    "# address_df_sent_log_2.to_csv('address_sent_log_2.csv')"
   ]
  },
  {
   "cell_type": "code",
   "execution_count": null,
   "id": "7bfe4909",
   "metadata": {},
   "outputs": [],
   "source": [
    "recv_plus_one = [float(x) + 1 for x in address_df['total_eth_recv']]\n",
    "value_recv_log = np.log(recv_plus_one)\n",
    "plt.hist(value_recv_log, bins = 100)\n",
    "plt.title('Total eth received per address')\n",
    "plt.show()"
   ]
  },
  {
   "cell_type": "code",
   "execution_count": null,
   "id": "520af40e",
   "metadata": {},
   "outputs": [],
   "source": [
    "nonce_plus_one = (address_df['max_nonce'] + 1).astype(float)\n",
    "nonce_log = np.log(nonce_plus_one)\n",
    "plt.hist(nonce_log, bins = 100)\n",
    "plt.title('Max nonce per address')\n",
    "plt.show()"
   ]
  },
  {
   "cell_type": "code",
   "execution_count": null,
   "id": "67b95ebd",
   "metadata": {},
   "outputs": [],
   "source": [
    "#Create log transformed transaction dataset\n",
    "log_cols = ['send_log', 'recv_log', 'gas_log', 'value_sent_log', 'value_recv_log', 'nonce_log']\n",
    "address_data_log = {'address': address_df['address'], 'send_count': send_log, 'receive_count': recv_log, 'avg_gas_cost': gas_log, 'total_eth_sent': value_sent_log, 'total_eth_recv': value_recv_log, 'max_nonce': nonce_log}\n",
    "address_df_log = pd.DataFrame(data=address_data_log)"
   ]
  },
  {
   "cell_type": "code",
   "execution_count": null,
   "id": "6bde97b4",
   "metadata": {},
   "outputs": [],
   "source": [
    "address_df_log.columns"
   ]
  },
  {
   "cell_type": "markdown",
   "id": "cb6b3d60",
   "metadata": {},
   "source": [
    "# Log transformed transaction dataset scatter plots"
   ]
  },
  {
   "cell_type": "code",
   "execution_count": null,
   "id": "9cf7c85b",
   "metadata": {},
   "outputs": [],
   "source": [
    "fig, ax = plt.subplots(6, 6)\n",
    "fig.set_size_inches(17, 8)\n",
    "fig.tight_layout()\n",
    "col = 1\n",
    "for i in range(6):\n",
    "    ax[0][i].scatter(address_df_log[address_df_log.columns[col]], address_df_log['send_count'])\n",
    "    ax[0][i].set_title(address_df_log.columns[col] +' vs. Send Count')\n",
    "    col += 1\n",
    "col = 1\n",
    "for i in range(6):\n",
    "    ax[1][i].scatter(address_df_log[address_df_log.columns[col]], address_df_log['receive_count'])\n",
    "    ax[1][i].set_title(address_df_log.columns[col] +' vs. Receive Count')\n",
    "    col += 1\n",
    "col = 1\n",
    "for i in range(6):\n",
    "    ax[2][i].scatter(address_df_log[address_df_log.columns[col]], address_df_log['avg_gas_cost'])\n",
    "    ax[2][i].set_title(address_df_log.columns[col] +' vs. Avg. gas cost')\n",
    "    col += 1\n",
    "col = 1\n",
    "for i in range(6):\n",
    "    ax[3][i].scatter(address_df_log[address_df_log.columns[col]], address_df_log['total_eth_sent'])\n",
    "    ax[3][i].set_title(address_df_log.columns[col] +' vs. Total Eth Sent')\n",
    "    col += 1\n",
    "col = 1\n",
    "for i in range(6):\n",
    "    ax[4][i].scatter(address_df_log[address_df_log.columns[col]], address_df_log['total_eth_recv'])\n",
    "    ax[4][i].set_title(address_df_log.columns[col] +' vs. Total Eth Received')\n",
    "    col += 1\n",
    "col = 1 \n",
    "for i in range(6):\n",
    "    ax[5][i].scatter(address_df_log[address_df_log.columns[col]], address_df_log['max_nonce'])\n",
    "    ax[5][i].set_title(address_df_log.columns[col] +' vs. Max Nonce')\n",
    "    col += 1\n",
    "plt.show()"
   ]
  }
 ],
 "metadata": {
  "kernelspec": {
   "display_name": "Python 3 (ipykernel)",
   "language": "python",
   "name": "python3"
  },
  "language_info": {
   "codemirror_mode": {
    "name": "ipython",
    "version": 3
   },
   "file_extension": ".py",
   "mimetype": "text/x-python",
   "name": "python",
   "nbconvert_exporter": "python",
   "pygments_lexer": "ipython3",
   "version": "3.9.7"
  }
 },
 "nbformat": 4,
 "nbformat_minor": 5
}
