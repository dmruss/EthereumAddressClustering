{
 "cells": [
  {
   "cell_type": "code",
   "execution_count": null,
   "id": "f5e87055",
   "metadata": {},
   "outputs": [],
   "source": [
    "import pandas as pd\n",
    "import igraph as ig\n",
    "import networkx as nx\n",
    "from igraph import Graph\n",
    "import csv\n",
    "from sklearn import decomposition\n",
    "import matplotlib.pyplot as plt\n",
    "import numpy as np"
   ]
  },
  {
   "cell_type": "markdown",
   "id": "f7df0c03",
   "metadata": {},
   "source": [
    "### Read in data"
   ]
  },
  {
   "cell_type": "code",
   "execution_count": null,
   "id": "3dd24d39",
   "metadata": {},
   "outputs": [],
   "source": [
    "top_10k_addr = pd.read_csv('../data/top_10k_addr.csv', index_col=0)\n",
    "top_10k_addr.head()"
   ]
  },
  {
   "cell_type": "code",
   "execution_count": null,
   "id": "ab5087ca",
   "metadata": {},
   "outputs": [],
   "source": [
    "from_addresses = []\n",
    "\n",
    "with open('../data/from_addresses.csv', mode ='r') as file:   \n",
    "       csvFile = csv.reader(file)\n",
    "        \n",
    "       for line in csvFile:\n",
    "            from_addresses.append(line[0])"
   ]
  },
  {
   "cell_type": "code",
   "execution_count": null,
   "id": "9c019dd4",
   "metadata": {},
   "outputs": [],
   "source": [
    "to_addresses = []\n",
    "\n",
    "with open('../data/to_addresses.csv', mode ='r') as file:   \n",
    "       csvFile = csv.reader(file)\n",
    "        \n",
    "       for line in csvFile:\n",
    "            to_addresses.append(line[0])"
   ]
  },
  {
   "cell_type": "code",
   "execution_count": null,
   "id": "f62d3c93",
   "metadata": {},
   "outputs": [],
   "source": [
    "unique_addresses = []\n",
    "\n",
    "with open('../data/unique_addresses.csv', mode ='r') as file:   \n",
    "       csvFile = csv.reader(file)\n",
    "        \n",
    "       for line in csvFile:\n",
    "            unique_addresses.append(line[0])"
   ]
  },
  {
   "cell_type": "code",
   "execution_count": null,
   "id": "1eb644f2",
   "metadata": {},
   "outputs": [],
   "source": [
    "print(len(from_addresses))\n",
    "print(len(to_addresses))\n",
    "print(len(unique_addresses))"
   ]
  },
  {
   "cell_type": "markdown",
   "id": "effc930a",
   "metadata": {},
   "source": [
    "### Create dataframe"
   ]
  },
  {
   "cell_type": "code",
   "execution_count": null,
   "id": "0688d120",
   "metadata": {},
   "outputs": [],
   "source": [
    "# transactions = {'Source': from_addresses, 'Target': to_addresses}\n",
    "# transactions_df = pd.DataFrame(data=transactions)\n",
    "# transactions_df.head()"
   ]
  },
  {
   "cell_type": "markdown",
   "id": "73da6f7f",
   "metadata": {},
   "source": [
    "### Create graph from df"
   ]
  },
  {
   "cell_type": "code",
   "execution_count": null,
   "id": "11bb7a69",
   "metadata": {},
   "outputs": [],
   "source": [
    "# g = Graph.DataFrame(transactions_df, directed=True)"
   ]
  },
  {
   "cell_type": "markdown",
   "id": "bbbf1eff",
   "metadata": {},
   "source": [
    "### Assign all edges weight 1 and sum parallel edges"
   ]
  },
  {
   "cell_type": "code",
   "execution_count": null,
   "id": "e5c0ed2d",
   "metadata": {},
   "outputs": [],
   "source": [
    "# g.es['weight'] = 1"
   ]
  },
  {
   "cell_type": "code",
   "execution_count": null,
   "id": "c72ccd2c",
   "metadata": {},
   "outputs": [],
   "source": [
    "# g.simplify(combine_edges='sum')"
   ]
  },
  {
   "cell_type": "code",
   "execution_count": null,
   "id": "f1ccf116",
   "metadata": {},
   "outputs": [],
   "source": [
    "# edges = ig.EdgeSeq(g)\n",
    "# weights = edges['weight']"
   ]
  },
  {
   "cell_type": "code",
   "execution_count": null,
   "id": "d3395c9d",
   "metadata": {},
   "outputs": [],
   "source": [
    "# weights[0:5]"
   ]
  },
  {
   "cell_type": "markdown",
   "id": "74305517",
   "metadata": {},
   "source": [
    "## get weights of all incident edges to a vertex\n",
    "### out weight sum equivalent to send count, in equivalent to receive count"
   ]
  },
  {
   "cell_type": "code",
   "execution_count": null,
   "id": "05494119",
   "metadata": {},
   "outputs": [],
   "source": [
    "# len(g.es[g.incident('0xf60c2ea62edbfe808163751dd0d8693dcb30019c')])"
   ]
  },
  {
   "cell_type": "markdown",
   "id": "1d0599fc",
   "metadata": {},
   "source": [
    "# Build dataset for tx involving top 10k addr "
   ]
  },
  {
   "cell_type": "code",
   "execution_count": null,
   "id": "dd3f4539",
   "metadata": {},
   "outputs": [],
   "source": [
    "#df with only top 10k addresses\n",
    "unique_addr_cm = pd.DataFrame(data=top_10k_addr['address'])\n",
    "unique_addr_cm.head()"
   ]
  },
  {
   "cell_type": "code",
   "execution_count": null,
   "id": "4b703e70",
   "metadata": {},
   "outputs": [],
   "source": [
    "#transaction lists involving at least 1 top 10k address\n",
    "from_addr_top = []\n",
    "to_addr_top = []\n",
    "\n",
    "from_addr_is_top = pd.Series(from_addresses).isin(unique_addr_cm['address'])\n",
    "to_addr_is_top = pd.Series(to_addresses).isin(unique_addr_cm['address'])\n",
    "\n",
    "for index in range(len(from_addr_is_top)):\n",
    "    if from_addr_is_top[index] or to_addr_is_top[index]:\n",
    "        from_addr_top.append(from_addresses[index])\n",
    "        to_addr_top.append(to_addresses[index])\n"
   ]
  },
  {
   "cell_type": "code",
   "execution_count": null,
   "id": "e576c1b3",
   "metadata": {},
   "outputs": [],
   "source": [
    "len(from_addr_top)"
   ]
  },
  {
   "cell_type": "code",
   "execution_count": null,
   "id": "886fcd65",
   "metadata": {},
   "outputs": [],
   "source": [
    "transactions = {'Source': from_addr_top, 'Target': to_addr_top}\n",
    "transactions_df = pd.DataFrame(data=transactions)\n",
    "# transactions_df.to_csv('top_addr_tx.csv')"
   ]
  },
  {
   "cell_type": "markdown",
   "id": "d36295dc",
   "metadata": {},
   "source": [
    "## Sample top transactions"
   ]
  },
  {
   "cell_type": "code",
   "execution_count": null,
   "id": "177559b4",
   "metadata": {},
   "outputs": [],
   "source": [
    "min_tx = 1\n",
    "top_dict = {}\n",
    "for addr in unique_addr_cm['address']:\n",
    "    top_dict[addr] = 0\n",
    "print(len(top_dict.keys()))\n",
    "from_addr_reduced = []\n",
    "to_addr_reduced = []\n",
    "for index in range(len(from_addr_top)):\n",
    "    if from_addr_top[index] in top_dict.keys():\n",
    "        from_addr = from_addr_top[index]\n",
    "        to_addr = to_addr_top[index]\n",
    "        if top_dict[from_addr] < min_tx:\n",
    "            from_addr_reduced.append(from_addr)\n",
    "            to_addr_reduced.append(to_addr)\n",
    "            top_dict[from_addr] += 1\n",
    "            if to_addr in top_dict.keys():\n",
    "                top_dict[to_addr] += 1\n",
    "        elif to_addr_top[index] in top_dict.keys():\n",
    "            to_addr = to_addr_top[index]\n",
    "            from_addr = from_addr_top[index]\n",
    "            if top_dict[to_addr] < min_tx:\n",
    "                from_addr_reduced.append(from_addr)\n",
    "                to_addr_reduced.append(to_addr)\n",
    "                top_dict[to_addr] += 1\n",
    "                if from_addr in top_dict.keys():\n",
    "                    top_dict[from_addr] += 1\n",
    "    elif to_addr_top[index] in top_dict.keys():\n",
    "        to_addr = to_addr_top[index]\n",
    "        from_addr = from_addr_top[index]\n",
    "        if top_dict[to_addr] < min_tx:\n",
    "            from_addr_reduced.append(from_addr)\n",
    "            to_addr_reduced.append(to_addr)\n",
    "            top_dict[to_addr] += 1\n",
    "            if from_addr in top_dict.keys():\n",
    "                top_dict[from_addr] += 1\n",
    "    "
   ]
  },
  {
   "cell_type": "code",
   "execution_count": null,
   "id": "cfe95b04",
   "metadata": {},
   "outputs": [],
   "source": [
    "top_dict.values()"
   ]
  },
  {
   "cell_type": "code",
   "execution_count": null,
   "id": "13a981c6",
   "metadata": {},
   "outputs": [],
   "source": [
    "len(from_addr_reduced)"
   ]
  },
  {
   "cell_type": "code",
   "execution_count": null,
   "id": "0a81edca",
   "metadata": {},
   "outputs": [],
   "source": [
    "transactions_reduced = {'Source': from_addr_reduced, 'Target': to_addr_reduced}\n",
    "transactions_reduced_df = pd.DataFrame(data=transactions_reduced)"
   ]
  },
  {
   "cell_type": "code",
   "execution_count": null,
   "id": "76ff379f",
   "metadata": {},
   "outputs": [],
   "source": [
    "g = Graph.DataFrame(transactions_reduced_df, directed=True)\n",
    "\n",
    "g.es['weight'] = 1\n",
    "g.simplify(combine_edges='sum')\n",
    "\n",
    "edges = ig.EdgeSeq(g)\n",
    "weights = edges['weight']"
   ]
  },
  {
   "cell_type": "code",
   "execution_count": null,
   "id": "81bc4f07",
   "metadata": {},
   "outputs": [],
   "source": [
    "transactions_nx = g.to_networkx()"
   ]
  },
  {
   "cell_type": "markdown",
   "id": "16407c74",
   "metadata": {},
   "source": [
    "## Node embedding"
   ]
  },
  {
   "cell_type": "code",
   "execution_count": null,
   "id": "d513ee28",
   "metadata": {},
   "outputs": [],
   "source": [
    "from node2vec import Node2Vec\n",
    "node2vec = Node2Vec(transactions_nx, dimensions=64, walk_length=100, num_walks=150, weight_key='weight', workers=1, temp_folder='C:/Users/David/Repos/School/DataScience/course_project/temp')\n"
   ]
  },
  {
   "cell_type": "code",
   "execution_count": null,
   "id": "6a51da2f",
   "metadata": {},
   "outputs": [],
   "source": [
    "model = node2vec.fit(window=10, min_count=4, batch_words=1)"
   ]
  },
  {
   "cell_type": "code",
   "execution_count": null,
   "id": "eb7e587f",
   "metadata": {},
   "outputs": [],
   "source": [
    "# model.save('embedded_nodes.txt')\n",
    "# model.wv.save_word2vec_format('embedded_word2vec.txt')\n",
    "# add\n",
    "#index 1 2 3 4 5 6 7 8 9 10 11 12 13 14 15 16 17 18 19 20 21 22 23 24 25 26 27 28 29 30 31 32 33 34 35 36 37 38 39 40 41 42 43 44 45 46 47 48 49 50 51 52 53 54 55 56 57 58 59 60 61 62 63 64\n"
   ]
  },
  {
   "cell_type": "code",
   "execution_count": null,
   "id": "def28ef8",
   "metadata": {},
   "outputs": [],
   "source": [
    "embedding_vectors = pd.read_csv('../data/embedded_word2vec.txt', delimiter=' ')"
   ]
  },
  {
   "cell_type": "code",
   "execution_count": null,
   "id": "d124c054",
   "metadata": {},
   "outputs": [],
   "source": [
    "ev_df = pd.DataFrame(data=embedding_vectors)\n",
    "ev_df = ev_df.set_index('index')\n",
    "ev_df = ev_df.sort_index()\n",
    "ev_df.index\n",
    "ev_df.head()"
   ]
  },
  {
   "cell_type": "code",
   "execution_count": null,
   "id": "a51cb57e",
   "metadata": {},
   "outputs": [],
   "source": [
    "addresses = []\n",
    "for vertex_num in ev_df.index:\n",
    "    addresses.append(g.vs[vertex_num]['name'])\n",
    "ev_df['address'] = addresses\n",
    "ev_df.head()\n",
    "ev_df_input = ev_df.drop('address', axis=1)"
   ]
  },
  {
   "cell_type": "code",
   "execution_count": null,
   "id": "b05faa2c",
   "metadata": {},
   "outputs": [],
   "source": [
    "pca = decomposition.PCA(n_components=2)\n",
    "pca.fit(ev_df_input)\n",
    "transformed_df = pca.transform(ev_df_input)"
   ]
  },
  {
   "cell_type": "code",
   "execution_count": null,
   "id": "21696bc9",
   "metadata": {},
   "outputs": [],
   "source": [
    "x_vals = []\n",
    "y_vals = []\n",
    "for val in transformed_df:\n",
    "    x_vals.append(val[0])\n",
    "    y_vals.append(val[1])\n",
    "    \n",
    "plt.scatter(x_vals, y_vals)\n",
    "plt.show()"
   ]
  },
  {
   "cell_type": "code",
   "execution_count": null,
   "id": "ad58d33a",
   "metadata": {},
   "outputs": [],
   "source": [
    "embed_out_df = pd.DataFrame(data=ev_df['address'])"
   ]
  },
  {
   "cell_type": "code",
   "execution_count": null,
   "id": "4c646ef6",
   "metadata": {},
   "outputs": [],
   "source": [
    "embed_out_df['embed1'] = x_vals\n",
    "embed_out_df['embed2'] = y_vals"
   ]
  },
  {
   "cell_type": "code",
   "execution_count": null,
   "id": "d96db83a",
   "metadata": {},
   "outputs": [],
   "source": [
    "embed_out_df = embed_out_df.set_index('address')"
   ]
  },
  {
   "cell_type": "code",
   "execution_count": null,
   "id": "14c2ffe0",
   "metadata": {},
   "outputs": [],
   "source": [
    "embed_out_df.head()"
   ]
  },
  {
   "cell_type": "code",
   "execution_count": null,
   "id": "22c06c95",
   "metadata": {},
   "outputs": [],
   "source": [
    "len(unique_addr_cm)"
   ]
  },
  {
   "cell_type": "code",
   "execution_count": null,
   "id": "8716ec24",
   "metadata": {},
   "outputs": [],
   "source": [
    "unique_addr_cm.head()"
   ]
  },
  {
   "cell_type": "code",
   "execution_count": null,
   "id": "bfa5abbc",
   "metadata": {},
   "outputs": [],
   "source": [
    "top_embed1 = []\n",
    "top_embed2 = []\n",
    "for addr in unique_addr_cm['address']:\n",
    "    if addr in embed_out_df.index:\n",
    "        top_embed1.append(embed_out_df.loc[addr]['embed1'])\n",
    "        top_embed2.append(embed_out_df.loc[addr]['embed2'])\n",
    "print(len(top_embed1))\n",
    "unique_addr_cm['embed1'] = top_embed1\n",
    "unique_addr_cm['embed2'] = top_embed2"
   ]
  },
  {
   "cell_type": "code",
   "execution_count": null,
   "id": "bf45bc6b",
   "metadata": {},
   "outputs": [],
   "source": [
    "unique_addr_cm.head()\n",
    "# unique_addr_cm.to_csv('unique_addr_embed.csv')"
   ]
  },
  {
   "cell_type": "code",
   "execution_count": null,
   "id": "febdb1f4",
   "metadata": {},
   "outputs": [],
   "source": [
    "unique_addr_cm.head()"
   ]
  },
  {
   "cell_type": "markdown",
   "id": "5a160932",
   "metadata": {},
   "source": [
    "## Graph for tx involving top 10k addr"
   ]
  },
  {
   "cell_type": "code",
   "execution_count": null,
   "id": "7c88ea4f",
   "metadata": {},
   "outputs": [],
   "source": [
    "# #graph of tx involving top 10k addresses\n",
    "# g = Graph.DataFrame(transactions_df, directed=True)\n",
    "\n",
    "# g.es['weight'] = 1\n",
    "# g.simplify(combine_edges='sum')\n",
    "\n",
    "# edges = ig.EdgeSeq(g)\n",
    "# weights = edges['weight']"
   ]
  },
  {
   "cell_type": "code",
   "execution_count": null,
   "id": "8037bc39",
   "metadata": {},
   "outputs": [],
   "source": [
    "# import numpy as np\n",
    "# np.log(g.es['weight'])\n",
    "# print(int(min(np.log(g.es['weight']))))\n",
    "# print(int(max(np.log(g.es['weight']))))\n",
    "# print(g.es[0].attributes())"
   ]
  },
  {
   "cell_type": "code",
   "execution_count": null,
   "id": "cc648d5b",
   "metadata": {},
   "outputs": [],
   "source": [
    "# transactions_nx = g.to_networkx()"
   ]
  },
  {
   "cell_type": "code",
   "execution_count": null,
   "id": "35cad23a",
   "metadata": {},
   "outputs": [],
   "source": [
    "# from node2vec import Node2Vec\n",
    "# node2vec = Node2Vec(transactions_nx, dimensions=64, walk_length=10, num_walks=5, workers=1, temp_folder='C:/Users/David/Repos/School/DataScience/course_project/temp')\n"
   ]
  },
  {
   "cell_type": "code",
   "execution_count": null,
   "id": "123a70ed",
   "metadata": {},
   "outputs": [],
   "source": [
    "# model = node2vec.fit(window=10, min_count=1, batch_words=4)"
   ]
  },
  {
   "cell_type": "markdown",
   "id": "252b95d1",
   "metadata": {},
   "source": [
    "# Centrality measures"
   ]
  },
  {
   "cell_type": "markdown",
   "id": "379d7e22",
   "metadata": {},
   "source": [
    "### degree"
   ]
  },
  {
   "cell_type": "code",
   "execution_count": null,
   "id": "409f5d0e",
   "metadata": {},
   "outputs": [],
   "source": [
    "#corresponds to the number of unique id connections an address has\n",
    "degrees = g.degree(unique_addr_cm['address'])\n",
    "unique_addr_cm['degrees'] = degrees"
   ]
  },
  {
   "cell_type": "code",
   "execution_count": null,
   "id": "6c41d278",
   "metadata": {},
   "outputs": [],
   "source": [
    "unique_addr_cm.head()"
   ]
  },
  {
   "cell_type": "code",
   "execution_count": null,
   "id": "02c90e5a",
   "metadata": {},
   "outputs": [],
   "source": [
    "in_degrees = g.indegree(unique_addr_cm['address'])\n",
    "unique_addr_cm['in_degree'] = in_degrees\n",
    "print(unique_addr_cm.head())"
   ]
  },
  {
   "cell_type": "code",
   "execution_count": null,
   "id": "2e041679",
   "metadata": {},
   "outputs": [],
   "source": [
    "out_degrees = g.outdegree(unique_addr_cm['address'])\n",
    "unique_addr_cm['out_degree'] = out_degrees\n",
    "print(unique_addr_cm.head())"
   ]
  },
  {
   "cell_type": "code",
   "execution_count": null,
   "id": "34539602",
   "metadata": {},
   "outputs": [],
   "source": [
    "plt.hist(np.log([x+1 for x in degrees]), bins=50)\n",
    "plt.title('Counts of log transformed node degrees')\n",
    "plt.show()"
   ]
  },
  {
   "cell_type": "code",
   "execution_count": null,
   "id": "e037fd8b",
   "metadata": {},
   "outputs": [],
   "source": [
    "print(min(unique_addr_cm['degrees']))\n",
    "print(max(unique_addr_cm['degrees']))\n",
    "print(len(unique_addr_cm['degrees']))"
   ]
  },
  {
   "cell_type": "markdown",
   "id": "c6000d29",
   "metadata": {},
   "source": [
    "### page rank"
   ]
  },
  {
   "cell_type": "code",
   "execution_count": null,
   "id": "e3b80f8a",
   "metadata": {},
   "outputs": [],
   "source": [
    "page_rank = g.pagerank(vertices=unique_addr_cm['address'],weights=weights)"
   ]
  },
  {
   "cell_type": "code",
   "execution_count": null,
   "id": "8833fd59",
   "metadata": {},
   "outputs": [],
   "source": [
    "len(page_rank)"
   ]
  },
  {
   "cell_type": "code",
   "execution_count": null,
   "id": "82532499",
   "metadata": {},
   "outputs": [],
   "source": [
    "unique_addr_cm['page_rank'] = page_rank\n",
    "unique_addr_cm.head()"
   ]
  },
  {
   "cell_type": "code",
   "execution_count": null,
   "id": "6d419b21",
   "metadata": {},
   "outputs": [],
   "source": [
    "top_rank_addr = unique_addr_cm.sort_values('page_rank', ascending=False)\n",
    "top_rank_addr.head(20)"
   ]
  },
  {
   "cell_type": "code",
   "execution_count": null,
   "id": "a2483dab",
   "metadata": {},
   "outputs": [],
   "source": [
    "plt.hist(np.log([x+1 for x in page_rank]), bins=100)\n",
    "plt.title('Counts of log transformed node page rank')\n",
    "plt.show()"
   ]
  },
  {
   "cell_type": "code",
   "execution_count": null,
   "id": "62120ea7",
   "metadata": {},
   "outputs": [],
   "source": [
    "print(min(unique_addr_cm['page_rank']))\n",
    "print(max(unique_addr_cm['page_rank']))"
   ]
  },
  {
   "cell_type": "markdown",
   "id": "c2004a8d",
   "metadata": {},
   "source": [
    "### closeness"
   ]
  },
  {
   "cell_type": "code",
   "execution_count": null,
   "id": "9cad14ce",
   "metadata": {},
   "outputs": [],
   "source": [
    "# transactions_df_100k = transactions_df[0:100000]\n",
    "# #graph of tx involving top 10k addresses\n",
    "# g2 = Graph.DataFrame(transactions_df_100k, directed=True)\n",
    "\n",
    "# g2.es['weight'] = 1\n",
    "# g2.simplify(combine_edges='sum')\n",
    "\n",
    "# edges2 = ig.EdgeSeq(g2)\n",
    "# weights2 = edges2['weight']"
   ]
  },
  {
   "cell_type": "code",
   "execution_count": null,
   "id": "2b039cbe",
   "metadata": {},
   "outputs": [],
   "source": [
    "# print(g2.vs[0])"
   ]
  },
  {
   "cell_type": "code",
   "execution_count": null,
   "id": "16d4ddc8",
   "metadata": {},
   "outputs": [],
   "source": [
    "close_vals = g.closeness(vertices=unique_addr_cm['address'], weights=weights)\n",
    "unique_addr_cm['closeness'] = close_vals\n",
    "unique_addr_cm.head()"
   ]
  },
  {
   "cell_type": "code",
   "execution_count": null,
   "id": "bc01b7ee",
   "metadata": {},
   "outputs": [],
   "source": [
    "unique_addr_cm['closeness'] = unique_addr_cm['closeness'].fillna(0)"
   ]
  },
  {
   "cell_type": "code",
   "execution_count": null,
   "id": "c3adb7d6",
   "metadata": {},
   "outputs": [],
   "source": [
    "import numpy as np\n",
    "plt.hist(np.log([x+1 for x in close_vals]), bins=50)\n",
    "plt.title('Counts of log transformed node closeness')\n",
    "plt.show()"
   ]
  },
  {
   "cell_type": "code",
   "execution_count": null,
   "id": "7ff72e11",
   "metadata": {},
   "outputs": [],
   "source": [
    "unique_addr_cm.isnull().value_counts()"
   ]
  },
  {
   "cell_type": "markdown",
   "id": "0359c871",
   "metadata": {},
   "source": [
    "### betweeness"
   ]
  },
  {
   "cell_type": "code",
   "execution_count": null,
   "id": "a2877c9e",
   "metadata": {},
   "outputs": [],
   "source": [
    "between_vals = g.betweenness(vertices=unique_addr_cm['address'], weights=weights)\n",
    "unique_addr_cm['betweeness'] = between_vals\n",
    "unique_addr_cm.head()"
   ]
  },
  {
   "cell_type": "code",
   "execution_count": null,
   "id": "1ec8c8ba",
   "metadata": {},
   "outputs": [],
   "source": [
    "unique_addr_cm.head()"
   ]
  },
  {
   "cell_type": "code",
   "execution_count": null,
   "id": "c7667e41",
   "metadata": {},
   "outputs": [],
   "source": [
    "import numpy as np\n",
    "plt.hist(np.log([x+1 for x in between_vals]), bins=50)\n",
    "plt.title('Counts of log transformed node betweenness')\n",
    "plt.show()"
   ]
  },
  {
   "cell_type": "markdown",
   "id": "a380c63e",
   "metadata": {},
   "source": [
    "# Log transformed dataframe"
   ]
  },
  {
   "cell_type": "code",
   "execution_count": null,
   "id": "3801f5fa",
   "metadata": {},
   "outputs": [],
   "source": [
    "unique_addr_cm_log = pd.DataFrame()\n",
    "unique_addr_cm_log['address'] = unique_addr_cm['address']\n",
    "unique_addr_cm_log['embed1'] = np.log([x+1 for x in unique_addr_cm['embed1']])\n",
    "unique_addr_cm_log['embed2'] = np.log([x+1 for x in unique_addr_cm['embed2']])\n",
    "unique_addr_cm_log['degree'] = np.log([x+1 for x in unique_addr_cm['degrees']])\n",
    "unique_addr_cm_log['in_degree'] = np.log([x+1 for x in unique_addr_cm['in_degree']])\n",
    "unique_addr_cm_log['out_degree'] = np.log([x+1 for x in unique_addr_cm['out_degree']])\n",
    "unique_addr_cm_log['page_rank'] = np.log([x+1 for x in unique_addr_cm['page_rank']])\n",
    "unique_addr_cm_log['closeness'] = np.log([x+1 for x in unique_addr_cm['closeness']])\n",
    "unique_addr_cm_log['closeness'] = unique_addr_cm_log['closeness'].fillna(0)\n",
    "unique_addr_cm_log['betweeness'] = np.log([x+1 for x in unique_addr_cm['betweeness']])\n",
    "unique_addr_cm_log = unique_addr_cm_log.set_index('address')"
   ]
  },
  {
   "cell_type": "code",
   "execution_count": null,
   "id": "7cadc03a",
   "metadata": {},
   "outputs": [],
   "source": [
    "# unique_addr_cm_log.to_csv('graph_data_out_log.csv')\n",
    "# unique_addr_cm.to_csv('graph_data_out.csv')"
   ]
  },
  {
   "cell_type": "markdown",
   "id": "1a41e123",
   "metadata": {},
   "source": [
    "# Histograms"
   ]
  },
  {
   "cell_type": "code",
   "execution_count": null,
   "id": "48f114f3",
   "metadata": {},
   "outputs": [],
   "source": [
    "plt.hist(unique_addr_cm_log['embed1'], bins=100)\n",
    "plt.title('Node Embedding1')\n",
    "plt.show()"
   ]
  },
  {
   "cell_type": "code",
   "execution_count": null,
   "id": "92b6a749",
   "metadata": {},
   "outputs": [],
   "source": [
    "plt.hist(unique_addr_cm['embed2'], bins=100)\n",
    "plt.title('Node Embedding2')\n",
    "plt.show()"
   ]
  },
  {
   "cell_type": "code",
   "execution_count": null,
   "id": "25c4586e",
   "metadata": {},
   "outputs": [],
   "source": [
    "plt.hist(unique_addr_cm_log['degree'], bins=100)\n",
    "plt.title('Degree')\n",
    "plt.show()"
   ]
  },
  {
   "cell_type": "code",
   "execution_count": null,
   "id": "dded9daf",
   "metadata": {},
   "outputs": [],
   "source": [
    "plt.hist(unique_addr_cm_log['in_degree'], bins=100)\n",
    "plt.title('In Degree')\n",
    "plt.show()"
   ]
  },
  {
   "cell_type": "code",
   "execution_count": null,
   "id": "49a726b3",
   "metadata": {},
   "outputs": [],
   "source": [
    "plt.hist(unique_addr_cm_log['out_degree'], bins=100)\n",
    "plt.title('Out Degree')\n",
    "plt.show()"
   ]
  },
  {
   "cell_type": "code",
   "execution_count": null,
   "id": "c346ee17",
   "metadata": {},
   "outputs": [],
   "source": [
    "plt.hist(unique_addr_cm_log['page_rank'], bins=100)\n",
    "plt.title('Page Rank')\n",
    "plt.show()"
   ]
  },
  {
   "cell_type": "code",
   "execution_count": null,
   "id": "c63863b9",
   "metadata": {},
   "outputs": [],
   "source": [
    "plt.hist(unique_addr_cm_log['closeness'], bins=50)\n",
    "plt.title('Closeness')\n",
    "plt.show()"
   ]
  },
  {
   "cell_type": "code",
   "execution_count": null,
   "id": "e1de8d78",
   "metadata": {
    "scrolled": false
   },
   "outputs": [],
   "source": [
    "plt.hist(unique_addr_cm_log['betweeness'], bins=50)\n",
    "plt.title('Betweeness')\n",
    "plt.show()"
   ]
  },
  {
   "cell_type": "code",
   "execution_count": null,
   "id": "8f1d6a69",
   "metadata": {},
   "outputs": [],
   "source": [
    "print(unique_addr_cm_log.columns)"
   ]
  },
  {
   "cell_type": "markdown",
   "id": "d439998f",
   "metadata": {},
   "source": [
    "# Scatterplots"
   ]
  },
  {
   "cell_type": "code",
   "execution_count": null,
   "id": "5ce76344",
   "metadata": {},
   "outputs": [],
   "source": [
    "fig, ax = plt.subplots(8, 8)\n",
    "fig.set_size_inches(17, 8)\n",
    "fig.tight_layout()\n",
    "col = 0\n",
    "for i in range(8):\n",
    "    ax[0][i].scatter(unique_addr_cm_log[unique_addr_cm_log.columns[col]], unique_addr_cm_log['embed1'])\n",
    "    ax[0][i].set_title(unique_addr_cm_log.columns[col] +' vs. Embedding 1')\n",
    "    col += 1\n",
    "col = 0\n",
    "for i in range(8):\n",
    "    ax[1][i].scatter(unique_addr_cm_log[unique_addr_cm_log.columns[col]], unique_addr_cm_log['embed2'])\n",
    "    ax[1][i].set_title(unique_addr_cm_log.columns[col] +' vs.Embedding 2')\n",
    "    col += 1\n",
    "col = 0\n",
    "for i in range(8):\n",
    "    ax[2][i].scatter(unique_addr_cm_log[unique_addr_cm_log.columns[col]], unique_addr_cm_log['degree'])\n",
    "    ax[2][i].set_title(unique_addr_cm_log.columns[col] +' vs. Degree')\n",
    "    col += 1\n",
    "col = 0\n",
    "for i in range(8):\n",
    "    ax[3][i].scatter(unique_addr_cm_log[unique_addr_cm_log.columns[col]], unique_addr_cm_log['in_degree'])\n",
    "    ax[3][i].set_title(unique_addr_cm_log.columns[col] +' vs. In Degree')\n",
    "    col += 1\n",
    "col = 0\n",
    "for i in range(8):\n",
    "    ax[4][i].scatter(unique_addr_cm_log[unique_addr_cm_log.columns[col]], unique_addr_cm_log['out_degree'])\n",
    "    ax[4][i].set_title(unique_addr_cm_log.columns[col] +' vs. Out Degree')\n",
    "    col += 1\n",
    "col = 0 \n",
    "for i in range(8):\n",
    "    ax[5][i].scatter(unique_addr_cm_log[unique_addr_cm_log.columns[col]], unique_addr_cm_log['page_rank'])\n",
    "    ax[5][i].set_title(unique_addr_cm_log.columns[col] +' vs. Page Rank')\n",
    "    col += 1\n",
    "col = 0\n",
    "for i in range(8):\n",
    "    ax[6][i].scatter(unique_addr_cm_log[unique_addr_cm_log.columns[col]], unique_addr_cm_log['closeness'])\n",
    "    ax[6][i].set_title(unique_addr_cm_log.columns[col] +' vs. Closeness')\n",
    "    col += 1\n",
    "col = 0\n",
    "for i in range(8):\n",
    "    ax[7][i].scatter(unique_addr_cm_log[unique_addr_cm_log.columns[col]], unique_addr_cm_log['betweeness'])\n",
    "    ax[7][i].set_title(unique_addr_cm_log.columns[col] +' vs. Betweenness')\n",
    "    col += 1\n",
    "plt.show()"
   ]
  }
 ],
 "metadata": {
  "kernelspec": {
   "display_name": "Python 3 (ipykernel)",
   "language": "python",
   "name": "python3"
  },
  "language_info": {
   "codemirror_mode": {
    "name": "ipython",
    "version": 3
   },
   "file_extension": ".py",
   "mimetype": "text/x-python",
   "name": "python",
   "nbconvert_exporter": "python",
   "pygments_lexer": "ipython3",
   "version": "3.9.7"
  }
 },
 "nbformat": 4,
 "nbformat_minor": 5
}
