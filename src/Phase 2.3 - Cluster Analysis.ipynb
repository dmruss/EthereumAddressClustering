{
 "cells": [
  {
   "cell_type": "code",
   "execution_count": null,
   "id": "64198f36",
   "metadata": {},
   "outputs": [],
   "source": [
    "import numpy as np\n",
    "import pandas as pd\n",
    "import matplotlib.pyplot as plt\n",
    "import igraph\n",
    "import csv"
   ]
  },
  {
   "cell_type": "markdown",
   "id": "7306db20",
   "metadata": {},
   "source": [
    "## read in data"
   ]
  },
  {
   "cell_type": "code",
   "execution_count": null,
   "id": "062320dc",
   "metadata": {},
   "outputs": [],
   "source": [
    "addr_pca_kmeans_graph = pd.read_csv('../data/addresses_pca_kmeans_graph.csv', index_col=0)\n",
    "addr_pca_kmeans = pd.read_csv('../data/addresses_pca_kmeans.csv', index_col=0)\n"
   ]
  },
  {
   "cell_type": "code",
   "execution_count": null,
   "id": "ce277e26",
   "metadata": {},
   "outputs": [],
   "source": [
    "addr_pca_kmeans = addr_pca_kmeans.set_index('address')"
   ]
  },
  {
   "cell_type": "code",
   "execution_count": null,
   "id": "1b04c6ee",
   "metadata": {},
   "outputs": [],
   "source": [
    "addr_pca_kmeans_graph.head()"
   ]
  },
  {
   "cell_type": "code",
   "execution_count": null,
   "id": "b303ebb7",
   "metadata": {},
   "outputs": [],
   "source": [
    "len(addr_pca_kmeans)"
   ]
  },
  {
   "cell_type": "code",
   "execution_count": null,
   "id": "0866e30c",
   "metadata": {},
   "outputs": [],
   "source": [
    "addr_pca_kmeans_graph = addr_pca_kmeans_graph.rename(columns={'pca_x_vals': 'pca_x_vals_graph', 'pca_y_vals':'pca_y_vals_graph', 'clusters':'clusters_graph'})"
   ]
  },
  {
   "cell_type": "code",
   "execution_count": null,
   "id": "801060fb",
   "metadata": {},
   "outputs": [],
   "source": [
    "addr_pca_kmeans = addr_pca_kmeans.rename(columns={'pca_x_vals': 'pca_x_vals_tx', 'pca_y_vals':'pca_y_vals_tx', 'clusters':'clusters_tx'})"
   ]
  },
  {
   "cell_type": "markdown",
   "id": "d59f7d4d",
   "metadata": {},
   "source": [
    "## join graph clusters and tx clusters"
   ]
  },
  {
   "cell_type": "code",
   "execution_count": null,
   "id": "9d95649b",
   "metadata": {},
   "outputs": [],
   "source": [
    "joined_df = addr_pca_kmeans.join(addr_pca_kmeans_graph)"
   ]
  },
  {
   "cell_type": "code",
   "execution_count": null,
   "id": "24983a16",
   "metadata": {},
   "outputs": [],
   "source": [
    "joined_df.head()"
   ]
  },
  {
   "cell_type": "code",
   "execution_count": null,
   "id": "1f70cd5f",
   "metadata": {},
   "outputs": [],
   "source": [
    "joined_df.iloc[0]"
   ]
  },
  {
   "cell_type": "markdown",
   "id": "3a2f89ba",
   "metadata": {},
   "source": [
    "## overlap percentage"
   ]
  },
  {
   "cell_type": "code",
   "execution_count": null,
   "id": "38c49c19",
   "metadata": {},
   "outputs": [],
   "source": [
    "for tx_index in range(4):\n",
    "    for graph_index in range(4):\n",
    "        g_set = set(joined_df[joined_df['clusters_graph'] == graph_index].index)\n",
    "        tx_set = set(joined_df[joined_df['clusters_tx'] == tx_index].index)\n",
    "        overlap = g_set & tx_set\n",
    "        universe = g_set | tx_set\n",
    "        print('Tx cluster:', tx_index, ', Graph cluster:', graph_index, 'Percent Overlap:', \"%.2f\" %((len(overlap)/len(universe))*100),'%')\n",
    "    print()\n",
    "        "
   ]
  },
  {
   "cell_type": "markdown",
   "id": "c7eb60f3",
   "metadata": {},
   "source": [
    "## cosine similarity"
   ]
  },
  {
   "cell_type": "code",
   "execution_count": null,
   "id": "81d804a3",
   "metadata": {},
   "outputs": [],
   "source": [
    "#use cosine similarity to find the most similar clusters between groups\n",
    "from sklearn.metrics.pairwise import euclidean_distances, cosine_similarity\n",
    "\n",
    "for tx_index in range(4):\n",
    "    for graph_index in range(4):\n",
    "        sim_score = cosine_similarity(np.append(joined_df[joined_df['clusters_graph'] == graph_index].describe().loc['mean'][0:7], joined_df[joined_df['clusters_graph'] == graph_index].describe().loc['mean'][11:19]).reshape(1,-1), np.append(joined_df[joined_df['clusters_tx'] == tx_index].describe().loc['mean'][0:7], joined_df[joined_df['clusters_tx'] == tx_index].describe().loc['mean'][11:19]).reshape(1,-1))\n",
    "\n",
    "        print('Tx cluster:', tx_index, ', Graph cluster:', graph_index, 'Cosine similarity:', sim_score[0][0].round(4))\n",
    "    print()\n",
    "        "
   ]
  },
  {
   "cell_type": "code",
   "execution_count": null,
   "id": "1b216fc7",
   "metadata": {},
   "outputs": [],
   "source": [
    "print(joined_df[joined_df['clusters_tx'] == 0].describe().loc['mean'])\n",
    "print(joined_df[joined_df['clusters_graph'] == 0].describe().loc['mean'])"
   ]
  },
  {
   "cell_type": "markdown",
   "id": "cab91711",
   "metadata": {},
   "source": [
    "# TX cluster comparisons"
   ]
  },
  {
   "cell_type": "code",
   "execution_count": null,
   "id": "cc5f7767",
   "metadata": {},
   "outputs": [],
   "source": [
    "# cols=['Cluster Size']\n",
    "# x_axis = np.arange(len(cols))\n",
    "plt.figure(figsize=(15,10))\n",
    "# plt.bar(x=x_axis-0.2, color='orange', label='Tx 0', width=0.2, height =len(joined_df[joined_df['clusters_tx'] == 0]))\n",
    "# plt.bar(x=x_axis, color='navy', label='Tx 1', width=0.2, height =len(joined_df[joined_df['clusters_tx'] == 1]))\n",
    "# plt.bar(x=x_axis+0.2, color='lightblue', label='Tx 2', width=0.2, height =len(joined_df[joined_df['clusters_tx'] == 2]))\n",
    "# plt.bar(x=x_axis+0.4, color='darkred', label='Tx 3', width=0.2, height =len(joined_df[joined_df['clusters_tx'] == 3]))\n",
    "colors = ['orange', 'blue', 'lightblue', 'darkred']\n",
    "plt.pie(joined_df['clusters_tx'].value_counts(), labels=joined_df['clusters_tx'].value_counts().index, colors=colors,autopct='%1.1f%%',shadow=True)\n",
    "\n",
    "# pd.Series(np.log([x+1 for x in joined_df[joined_df['clusters_tx'] == 0].describe().loc['mean'][0:7]])).plot.bar()\n",
    "# plt.show()\n",
    "# pd.Series(np.log([x+1 for x in joined_df[joined_df['clusters_graph'] == 0].describe().loc['mean'][0:7]])).plot.bar()\n",
    "# pd.Series(np.log([x+1 for x in joined_df[joined_df['clusters_tx'] == 1].describe().loc['mean'][0:7]])).plot.bar(stacked=True)\n",
    "# pd.Series(np.log([x+1 for x in joined_df[joined_df['clusters_graph'] == 1].describe().loc['mean'][0:7]])).plot.bar(stacked=True)\n",
    "# pd.Series(np.log([x+1 for x in joined_df[joined_df['clusters_tx'] == 2].describe().loc['mean'][0:7]])).plot.bar(stacked=True)\n",
    "# pd.Series(np.log([x+1 for x in joined_df[joined_df['clusters_graph'] == 2].describe().loc['mean'][0:7]])).plot.bar(stacked=True)\n",
    "# pd.Series(np.log([x+1 for x in joined_df[joined_df['clusters_tx'] == 3].describe().loc['mean'][0:7]])).plot.bar(stacked=True)\n",
    "# pd.Series(np.log([x+1 for x in joined_df[joined_df['clusters_graph'] == 3].describe().loc['mean'][0:7]])).plot.bar(stacked=True)\n",
    "# plt.xticks(x_axis, cols)\n",
    "plt.title('Addresses per Cluster - Transaction')\n",
    "plt.legend()\n",
    "plt.show()\n"
   ]
  },
  {
   "cell_type": "code",
   "execution_count": null,
   "id": "45ce6863",
   "metadata": {},
   "outputs": [],
   "source": [
    "joined_df['clusters_tx'].value_counts().index"
   ]
  },
  {
   "cell_type": "code",
   "execution_count": null,
   "id": "5fb5fab2",
   "metadata": {
    "scrolled": false
   },
   "outputs": [],
   "source": [
    "cols=['total_eth_sent', 'total_eth_recv', 'max_nonce', 'total_eth_trans']\n",
    "x_axis = np.arange(len(cols))\n",
    "plt.rc('font', size=20)\n",
    "plt.figure(figsize=(15,10))\n",
    "plt.bar(x=x_axis-0.2, color='orange', label='Tx 0', width=0.2, height =[x+1 for x in joined_df[joined_df['clusters_tx'] == 0].describe().loc['mean'][3:7]])\n",
    "plt.bar(x=x_axis, color='navy', label='Tx 1', width=0.2, height =[x+1 for x in joined_df[joined_df['clusters_tx'] == 1].describe().loc['mean'][3:7]])\n",
    "plt.bar(x=x_axis+0.2, color='lightblue', label='Tx 2', width=0.2, height =[x+1 for x in joined_df[joined_df['clusters_tx'] == 2].describe().loc['mean'][3:7]])\n",
    "plt.bar(x=x_axis+0.4, color='darkred', label='Tx 3', width=0.2, height =[x+1 for x in joined_df[joined_df['clusters_tx'] == 3].describe().loc['mean'][3:7]])\n",
    "\n",
    "\n",
    "plt.xlabel('Statistic')\n",
    "plt.ylabel('Value')\n",
    "plt.title('Mean Transaction Statistics by Cluster, Tx')\n",
    "plt.xticks(x_axis, cols)\n",
    "plt.legend()\n",
    "plt.show()\n"
   ]
  },
  {
   "cell_type": "code",
   "execution_count": null,
   "id": "5c747da6",
   "metadata": {},
   "outputs": [],
   "source": [
    "cols=['send_count', 'receive_count']\n",
    "x_axis = np.arange(len(cols))\n",
    "plt.rc('font', size=20)\n",
    "plt.figure(figsize=(15,10))\n",
    "plt.bar(x=x_axis-0.2, color='orange', label='Tx 0', width=0.2, height =[x+1 for x in joined_df[joined_df['clusters_tx'] == 0].describe().loc['mean'][0:2]])\n",
    "plt.bar(x=x_axis, color='navy', label='Tx 1', width=0.2, height =[x+1 for x in joined_df[joined_df['clusters_tx'] == 1].describe().loc['mean'][0:2]])\n",
    "plt.bar(x=x_axis+0.2, color='lightblue', label='Tx 2', width=0.2, height =[x+1 for x in joined_df[joined_df['clusters_tx'] == 2].describe().loc['mean'][0:2]])\n",
    "plt.bar(x=x_axis+0.4, color='darkred', label='Tx 3', width=0.2, height =[x+1 for x in joined_df[joined_df['clusters_tx'] == 3].describe().loc['mean'][0:2]])\n",
    "\n",
    "\n",
    "plt.xlabel('Statistic')\n",
    "plt.ylabel('Value')\n",
    "plt.title('Mean Transaction Statistics by Cluster, Tx')\n",
    "plt.xticks(x_axis, cols)\n",
    "plt.legend()\n",
    "plt.show()\n"
   ]
  },
  {
   "cell_type": "code",
   "execution_count": null,
   "id": "a87166e2",
   "metadata": {},
   "outputs": [],
   "source": [
    "cols=['avg_gas_cost']\n",
    "x_axis = np.arange(len(cols))\n",
    "plt.rc('font', size=20)\n",
    "plt.figure(figsize=(15,10))\n",
    "plt.bar(x=x_axis-0.2, color='orange', label='Tx 0', width=0.2, height =[x+1 for x in joined_df[joined_df['clusters_tx'] == 0].describe().loc['mean'][2:3]])\n",
    "plt.bar(x=x_axis, color='navy', label='Tx 1', width=0.2, height =[x+1 for x in joined_df[joined_df['clusters_tx'] == 1].describe().loc['mean'][2:3]])\n",
    "plt.bar(x=x_axis+0.2, color='lightblue', label='Tx 2', width=0.2, height =[x+1 for x in joined_df[joined_df['clusters_tx'] == 2].describe().loc['mean'][2:3]])\n",
    "plt.bar(x=x_axis+0.4, color='darkred', label='Tx 3', width=0.2, height =[x+1 for x in joined_df[joined_df['clusters_tx'] == 3].describe().loc['mean'][2:3]])\n",
    "\n",
    "\n",
    "plt.xlabel('Statistic')\n",
    "plt.ylabel('Value')\n",
    "plt.title('Mean Transaction Statistics by Cluster, Tx')\n",
    "plt.xticks(x_axis, cols)\n",
    "plt.legend()\n",
    "plt.show()\n"
   ]
  },
  {
   "cell_type": "markdown",
   "id": "0ad809e4",
   "metadata": {},
   "source": [
    "# Graph Cluster Comparisons"
   ]
  },
  {
   "cell_type": "code",
   "execution_count": null,
   "id": "e6d027b3",
   "metadata": {},
   "outputs": [],
   "source": [
    "cols=['Cluster Size']\n",
    "x_axis = np.arange(len(cols))\n",
    "plt.figure(figsize=(15,10))\n",
    "\n",
    "colors = ['gold', 'hotpink', 'purple', 'green']\n",
    "plt.pie(joined_df['clusters_graph'].value_counts(), labels=joined_df['clusters_graph'].value_counts().index, colors=colors,autopct='%1.1f%%',shadow=True)\n",
    "\n",
    "plt.title('Addresses per Cluster - Graph')\n",
    "# plt.xticks(x_axis, cols)\n",
    "plt.legend()\n",
    "plt.show()\n"
   ]
  },
  {
   "cell_type": "code",
   "execution_count": null,
   "id": "65cd56fc",
   "metadata": {},
   "outputs": [],
   "source": [
    "cols=['total_eth_sent', 'total_eth_recv', 'max_nonce', 'total_eth_trans']\n",
    "x_axis = np.arange(len(cols))\n",
    "plt.rc('font', size=20)\n",
    "plt.figure(figsize=(15,10))\n",
    "plt.bar(x=x_axis-0.2, color='gold', label='Graph 0', width=0.2, height =[x+1 for x in joined_df[joined_df['clusters_graph'] == 0].describe().loc['mean'][3:7]])\n",
    "plt.bar(x=x_axis, color='hotpink', label='Graph 1', width=0.2, height =[x+1 for x in joined_df[joined_df['clusters_graph'] == 1].describe().loc['mean'][3:7]])\n",
    "plt.bar(x=x_axis+0.2, color='purple', label='Graph 2', width=0.2, height =[x+1 for x in joined_df[joined_df['clusters_graph'] == 2].describe().loc['mean'][3:7]])\n",
    "plt.bar(x=x_axis+0.4, color='green', label='Graph 3', width=0.2, height =[x+1 for x in joined_df[joined_df['clusters_graph'] == 3].describe().loc['mean'][3:7]])\n",
    "plt.xlabel('Statistic')\n",
    "plt.ylabel('Value')\n",
    "plt.title('Mean Transaction Statistics by Cluster, Graph')\n",
    "plt.xticks(x_axis, cols)\n",
    "plt.legend()\n",
    "plt.show()\n"
   ]
  },
  {
   "cell_type": "code",
   "execution_count": null,
   "id": "4f70a4b0",
   "metadata": {},
   "outputs": [],
   "source": [
    "cols=['send_count', 'receive_count']\n",
    "x_axis = np.arange(len(cols))\n",
    "plt.rc('font', size=20)\n",
    "plt.figure(figsize=(15,10))\n",
    "plt.bar(x=x_axis-0.2, color='gold', label='Graph 0', width=0.2, height =[x+1 for x in joined_df[joined_df['clusters_graph'] == 0].describe().loc['mean'][0:2]])\n",
    "plt.bar(x=x_axis, color='hotpink', label='Graph 1', width=0.2, height =[x+1 for x in joined_df[joined_df['clusters_graph'] == 1].describe().loc['mean'][0:2]])\n",
    "plt.bar(x=x_axis+0.2, color='purple', label='Graph 2', width=0.2, height =[x+1 for x in joined_df[joined_df['clusters_graph'] == 2].describe().loc['mean'][0:2]])\n",
    "plt.bar(x=x_axis+0.4, color='green', label='Graph 3', width=0.2, height =[x+1 for x in joined_df[joined_df['clusters_graph'] == 3].describe().loc['mean'][0:2]])\n",
    "plt.xlabel('Statistic')\n",
    "plt.ylabel('Value')\n",
    "plt.title('Mean Transaction Statistics by Cluster, Graph')\n",
    "plt.xticks(x_axis, cols)\n",
    "plt.legend()\n",
    "plt.show()\n"
   ]
  },
  {
   "cell_type": "code",
   "execution_count": null,
   "id": "057c6b81",
   "metadata": {},
   "outputs": [],
   "source": [
    "cols=['avg_gas_cost']\n",
    "x_axis = np.arange(len(cols))\n",
    "plt.rc('font', size=20)\n",
    "plt.figure(figsize=(15,10))\n",
    "plt.bar(x=x_axis-0.2, color='gold', label='Graph 0', width=0.2, height =[x+1 for x in joined_df[joined_df['clusters_graph'] == 0].describe().loc['mean'][2:3]])\n",
    "plt.bar(x=x_axis, color='hotpink', label='Graph 1', width=0.2, height =[x+1 for x in joined_df[joined_df['clusters_graph'] == 1].describe().loc['mean'][2:3]])\n",
    "plt.bar(x=x_axis+0.2, color='purple', label='Graph 2', width=0.2, height =[x+1 for x in joined_df[joined_df['clusters_graph'] == 2].describe().loc['mean'][2:3]])\n",
    "plt.bar(x=x_axis+0.4, color='green', label='Graph 3', width=0.2, height =[x+1 for x in joined_df[joined_df['clusters_graph'] == 3].describe().loc['mean'][2:3]])\n",
    "plt.xlabel('Statistic')\n",
    "plt.ylabel('Value')\n",
    "plt.title('Mean Transaction Statistics by Cluster, Graph')\n",
    "plt.xticks(x_axis, cols)\n",
    "plt.legend()\n",
    "plt.show()\n"
   ]
  },
  {
   "cell_type": "markdown",
   "id": "665785db",
   "metadata": {},
   "source": [
    "# Label Density"
   ]
  },
  {
   "cell_type": "code",
   "execution_count": null,
   "id": "23742734",
   "metadata": {},
   "outputs": [],
   "source": [
    "labeled_addr = pd.read_csv('../data/top_10k_addr_only.csv', index_col=0)\n",
    "labeled_addr = labeled_addr.set_index('address')"
   ]
  },
  {
   "cell_type": "code",
   "execution_count": null,
   "id": "0373c105",
   "metadata": {},
   "outputs": [],
   "source": [
    "labeled_addr.head()\n",
    "print(len(labeled_addr))"
   ]
  },
  {
   "cell_type": "code",
   "execution_count": null,
   "id": "ee2ecbf4",
   "metadata": {},
   "outputs": [],
   "source": [
    "joined_df = joined_df.join(labeled_addr)"
   ]
  },
  {
   "cell_type": "code",
   "execution_count": null,
   "id": "ae0bdc9f",
   "metadata": {},
   "outputs": [],
   "source": [
    "joined_df.head()"
   ]
  },
  {
   "cell_type": "code",
   "execution_count": null,
   "id": "3e35eb17",
   "metadata": {},
   "outputs": [],
   "source": [
    "joined_df['label'].value_counts()"
   ]
  },
  {
   "cell_type": "code",
   "execution_count": null,
   "id": "50427603",
   "metadata": {},
   "outputs": [],
   "source": [
    "#for each cluster find the percentage of addresses with that label in that cluster\n"
   ]
  },
  {
   "cell_type": "markdown",
   "id": "fc8ab7da",
   "metadata": {},
   "source": [
    "### Tx cluster label density"
   ]
  },
  {
   "cell_type": "code",
   "execution_count": null,
   "id": "a84823a4",
   "metadata": {},
   "outputs": [],
   "source": [
    "for index in range(4):\n",
    "    print('Tx cluster', index)\n",
    "    print(joined_df[joined_df['clusters_tx'] == index]['label'].value_counts())\n",
    "    print()"
   ]
  },
  {
   "cell_type": "code",
   "execution_count": null,
   "id": "e37427f1",
   "metadata": {},
   "outputs": [],
   "source": [
    "'''\n",
    "Tx 0 contains:\n",
    "whale                  100%\n",
    "exchange               93%\n",
    "dex                     0%\n",
    "token contract          0%\n",
    "bridge                  0%\n",
    "liquidity pool          0%\n",
    "marketplace             0%\n",
    "contract deployer       100%\n",
    "otc                     100%\n",
    "celsius                 100%\n",
    "investment fund         100%\n",
    "user proxy contract     0%\n",
    "eth2                    0%\n",
    "mining                  100%\n",
    "proxy                   0%\n",
    "\n",
    "Tx 1 contains:\n",
    "whale                  0%\n",
    "exchange               3%\n",
    "dex                     100%\n",
    "token contract          100%\n",
    "bridge                  100%\n",
    "liquidity pool          75%\n",
    "marketplace             100%\n",
    "contract deployer       0%\n",
    "otc                     0%\n",
    "celsius                 0%\n",
    "investment fund         0%\n",
    "user proxy contract     100%\n",
    "eth2                    100%\n",
    "mining                  0%\n",
    "proxy                   100%\n",
    "\n",
    "Tx 2 contains:\n",
    "whale                  \n",
    "exchange               \n",
    "dex                     \n",
    "token contract          \n",
    "bridge                  \n",
    "liquidity pool          25%\n",
    "marketplace             \n",
    "contract deployer       \n",
    "otc                     \n",
    "celsius                 \n",
    "investment fund         \n",
    "user proxy contract     \n",
    "eth2                    \n",
    "mining                  \n",
    "proxy                   \n",
    "\n",
    "Tx 3 contains:\n",
    "whale                  \n",
    "exchange               3%\n",
    "dex                     \n",
    "token contract          \n",
    "bridge                  \n",
    "liquidity pool          \n",
    "marketplace             \n",
    "contract deployer       \n",
    "otc                     \n",
    "celsius                 \n",
    "investment fund         \n",
    "user proxy contract     \n",
    "eth2                    \n",
    "mining                  \n",
    "proxy                   \n",
    "'''"
   ]
  },
  {
   "cell_type": "markdown",
   "id": "5315e443",
   "metadata": {},
   "source": [
    "### Graph cluster label density"
   ]
  },
  {
   "cell_type": "code",
   "execution_count": null,
   "id": "0fffbe2e",
   "metadata": {},
   "outputs": [],
   "source": [
    "for index in range(4):\n",
    "    print('Graph cluster', index)\n",
    "    print(joined_df[joined_df['clusters_graph'] == index]['label'].value_counts())\n",
    "    print()"
   ]
  },
  {
   "cell_type": "code",
   "execution_count": null,
   "id": "24b981c6",
   "metadata": {},
   "outputs": [],
   "source": [
    "'''\n",
    "Graph 0\n",
    "whale                  13%\n",
    "exchange               7%\n",
    "dex                     100%\n",
    "token contract          100%\n",
    "bridge                  100%\n",
    "liquidity pool          75%\n",
    "marketplace             100%\n",
    "contract deployer       0%\n",
    "otc                     0%\n",
    "celsius                 0%\n",
    "investment fund         0%\n",
    "user proxy contract     100%\n",
    "eth2                    100%\n",
    "mining                  0%\n",
    "proxy                   100%\n",
    "\n",
    "Graph 1\n",
    "whale                  23%\n",
    "exchange               41%\n",
    "dex                     \n",
    "token contract          \n",
    "bridge                  \n",
    "liquidity pool          25%\n",
    "marketplace             \n",
    "contract deployer       100%\n",
    "otc                     \n",
    "celsius                 \n",
    "investment fund         100%\n",
    "user proxy contract     \n",
    "eth2                    \n",
    "mining                  100%\n",
    "proxy                   \n",
    "\n",
    "Graph 2\n",
    "whale                  30%\n",
    "exchange               51%\n",
    "dex                     \n",
    "token contract          \n",
    "bridge                  \n",
    "liquidity pool          \n",
    "marketplace             \n",
    "contract deployer       \n",
    "otc                     100%\n",
    "celsius                 \n",
    "investment fund         \n",
    "user proxy contract     \n",
    "eth2                    \n",
    "mining                  \n",
    "proxy                   \n",
    "\n",
    "Graph 3\n",
    "whale                  30%\n",
    "exchange               \n",
    "dex                     \n",
    "token contract          \n",
    "bridge                  \n",
    "liquidity pool          \n",
    "marketplace             \n",
    "contract deployer       \n",
    "otc                     \n",
    "celsius                 100%\n",
    "investment fund         \n",
    "user proxy contract     \n",
    "eth2                    \n",
    "mining                  \n",
    "proxy                   \n",
    "'''"
   ]
  },
  {
   "cell_type": "markdown",
   "id": "8313da00",
   "metadata": {},
   "source": [
    "## label heatmap, only prelabeled addresses"
   ]
  },
  {
   "cell_type": "code",
   "execution_count": null,
   "id": "58d6fac4",
   "metadata": {},
   "outputs": [],
   "source": [
    "import seaborn as sns\n",
    "label_df = pd.DataFrame()\n",
    "label_df['Tx 0'] = [30, 27, 0, 0, 0, 0]\n",
    "label_df['Tx 1'] = [0,1,5,5,5,3]\n",
    "label_df['Tx 2'] = [0,0,0,0,0,1]\n",
    "label_df['Tx 3'] = [0,1,0,0,0,0]\n",
    "label_df['Graph 0'] = [4,2,5,5,5,3]\n",
    "label_df['Graph 1']= [12,7,0,0,0,1]\n",
    "label_df['Graph 2'] = [9,15,0,0,0,0]\n",
    "label_df['Graph 3'] = [10,0,0,0,0,0]\n",
    "label_df['label'] = ['whale', 'exchange', 'dex', 'token contract', 'bridge', 'liquidity pool']\n",
    "label_df = label_df.set_index('label')\n",
    "plt.figure(figsize=(15,10))\n",
    "plt.title('Labeled Address Heatmap')\n",
    "plt.rc('font', size=30)\n",
    "p = sns.heatmap(label_df, annot=True, fmt='d')\n",
    "p.set_xlabel('Cluster')\n",
    "p.set_ylabel('Label')"
   ]
  },
  {
   "cell_type": "markdown",
   "id": "d191e87f",
   "metadata": {},
   "source": [
    "# compare cluster scores"
   ]
  },
  {
   "cell_type": "code",
   "execution_count": null,
   "id": "3cdaa297",
   "metadata": {},
   "outputs": [],
   "source": [
    "tx_m4_df = pd.read_csv('../data/tx_m4_scores.csv', index_col=0)\n",
    "graph_m4_df = pd.read_csv('../data/graph_m4_scores.csv', index_col=0)"
   ]
  },
  {
   "cell_type": "code",
   "execution_count": null,
   "id": "51636409",
   "metadata": {},
   "outputs": [],
   "source": [
    "len(tx_m4_df['sil'])"
   ]
  },
  {
   "cell_type": "code",
   "execution_count": null,
   "id": "c0bf0832",
   "metadata": {
    "scrolled": false
   },
   "outputs": [],
   "source": [
    "#plot all three scores\n",
    "plt.figure(figsize=(10,10))\n",
    "plt.rc('font', size=16)\n",
    "plt.plot(range(2,12), tx_m4_df['sil'], label='Tx',c='red')\n",
    "plt.plot(range(2,12), graph_m4_df['sil'], label='Graph',c='blue')\n",
    "\n",
    "plt.title('Number of Clusters vs. Silhouette Score')\n",
    "plt.xticks(ticks=range(2, 12))\n",
    "plt.xlabel('Number of Clusters')\n",
    "plt.ylabel('Silhouette Score')\n",
    "plt.legend()\n",
    "plt.grid(visible=True,axis='x')\n",
    "plt.grid(visible=True,axis='y')\n",
    "plt.show()\n",
    "\n",
    "plt.figure(figsize=(10,10))\n",
    "plt.plot(range(2,12), tx_m4_df['ch'], label='Tx',c='red')\n",
    "plt.plot(range(2,12), graph_m4_df['ch'], label='Graph',c='blue')\n",
    "\n",
    "plt.title('Number of Clusters vs. Calinski-Harabasz Score')\n",
    "plt.legend()\n",
    "plt.xlabel('Number of Clusters')\n",
    "plt.ylabel('Calinski-Harabasz Score')\n",
    "plt.xticks(ticks=range(2, 11))\n",
    "plt.grid(visible=True,axis='x')\n",
    "plt.grid(visible=True,axis='y')\n",
    "plt.show()\n",
    "\n",
    "plt.figure(figsize=(10,10))\n",
    "plt.plot(range(2,12), tx_m4_df['db'], label='Tx',c='red')\n",
    "plt.plot(range(2,12), graph_m4_df['db'], label='Graph',c='blue')\n",
    "\n",
    "plt.title('Number of Clusters vs. Davies-Bouldin Score')\n",
    "plt.legend()\n",
    "plt.xlabel('Number of Clusters')\n",
    "plt.ylabel('Davies-Bouldin Score')\n",
    "plt.xticks(ticks=range(2, 11))\n",
    "plt.grid(visible=True,axis='x')\n",
    "plt.grid(visible=True,axis='y')\n",
    "plt.show()"
   ]
  },
  {
   "cell_type": "markdown",
   "id": "0d0ad2cc",
   "metadata": {},
   "source": [
    "# Plot original scatter plots with labels colored and in legend"
   ]
  },
  {
   "cell_type": "code",
   "execution_count": null,
   "id": "4d7a829e",
   "metadata": {
    "scrolled": false
   },
   "outputs": [],
   "source": [
    "#plot addresses\n",
    "plt.rc('font', size=20)\n",
    "plt.figure(figsize=(10,10))\n",
    "\n",
    "\n",
    "plt.scatter(joined_df['pca_x_vals_tx'], joined_df['pca_y_vals_tx'], label='unlabeled',c='lightgrey',alpha=0.5)\n",
    "plt.scatter(joined_df['pca_x_vals_tx'][joined_df['label'] == 'exchange'], joined_df['pca_y_vals_tx'][joined_df['label'] == 'exchange'], label='exchange',c='hotpink',alpha=0.5)\n",
    "plt.scatter(joined_df['pca_x_vals_tx'][joined_df['label'] == 'whale'], joined_df['pca_y_vals_tx'][joined_df['label'] == 'whale'], label='whale',c='gold', alpha=0.5)\n",
    "\n",
    "plt.scatter(joined_df['pca_x_vals_tx'][joined_df['label'] == 'token contract'], joined_df['pca_y_vals_tx'][joined_df['label'] == 'token contract'], label='token contract',c='navy',alpha=0.5)\n",
    "\n",
    "plt.scatter(joined_df['pca_x_vals_tx'][joined_df['label'] == 'dex'], joined_df['pca_y_vals_tx'][joined_df['label'] == 'dex'], label='dex',c='limegreen',alpha=0.5)\n",
    "plt.scatter(joined_df['pca_x_vals_tx'][joined_df['label'] == 'bridge'], joined_df['pca_y_vals_tx'][joined_df['label'] == 'bridge'], label='bridge',c='black',alpha=0.5)\n",
    "plt.scatter(joined_df['pca_x_vals_tx'][joined_df['label'] == 'liquidity pool'], joined_df['pca_y_vals_tx'][joined_df['label'] == 'liquidity pool'], label='liquidity pool',c='red', alpha=0.5)\n",
    "\n",
    "plt.legend()    \n",
    "plt.xlabel('PC1')\n",
    "plt.ylabel('PC2')\n",
    "plt.title('Method 4, Tx statistics, Labels')\n",
    "plt.show()"
   ]
  },
  {
   "cell_type": "code",
   "execution_count": null,
   "id": "f31ba217",
   "metadata": {},
   "outputs": [],
   "source": [
    "#plot addresses\n",
    "plt.rc('font', size=20)\n",
    "plt.figure(figsize=(10,10))\n",
    "\n",
    "\n",
    "plt.scatter(joined_df['pca_x_vals_graph'], joined_df['pca_y_vals_graph'], label='unlabeled',c='lightgrey',alpha=0.5)\n",
    "plt.scatter(joined_df['pca_x_vals_graph'][joined_df['label'] == 'exchange'], joined_df['pca_y_vals_graph'][joined_df['label'] == 'exchange'], label='exchange',c='hotpink',alpha=0.5)\n",
    "plt.scatter(joined_df['pca_x_vals_graph'][joined_df['label'] == 'whale'], joined_df['pca_y_vals_graph'][joined_df['label'] == 'whale'], label='whale',c='gold', alpha=0.5)\n",
    "\n",
    "plt.scatter(joined_df['pca_x_vals_graph'][joined_df['label'] == 'token contract'], joined_df['pca_y_vals_graph'][joined_df['label'] == 'token contract'], label='token contract',c='navy',alpha=0.5)\n",
    "\n",
    "plt.scatter(joined_df['pca_x_vals_graph'][joined_df['label'] == 'dex'], joined_df['pca_y_vals_graph'][joined_df['label'] == 'dex'], label='dex',c='limegreen',alpha=0.5)\n",
    "plt.scatter(joined_df['pca_x_vals_graph'][joined_df['label'] == 'bridge'], joined_df['pca_y_vals_graph'][joined_df['label'] == 'bridge'], label='bridge',c='black',alpha=0.5)\n",
    "plt.scatter(joined_df['pca_x_vals_graph'][joined_df['label'] == 'liquidity pool'], joined_df['pca_y_vals_graph'][joined_df['label'] == 'liquidity pool'], label='liquidity pool',c='red', alpha=0.5)\n",
    "\n",
    "plt.legend()    \n",
    "plt.xlabel('PC1')\n",
    "plt.ylabel('PC2')\n",
    "plt.title('Method 4, Graph statistics, Labels')\n",
    "plt.show()"
   ]
  },
  {
   "cell_type": "markdown",
   "id": "5759e84d",
   "metadata": {},
   "source": [
    "# Get top 5 addresses from each cluster by total eth trans"
   ]
  },
  {
   "cell_type": "code",
   "execution_count": null,
   "id": "ee381960",
   "metadata": {},
   "outputs": [],
   "source": [
    "lbl = ['whale', 'whale temp', 'exchange', 'dex', 'token contract', 'proxy', 'liquidity pool', 'nft marketplace']"
   ]
  },
  {
   "cell_type": "code",
   "execution_count": null,
   "id": "e919b4f6",
   "metadata": {},
   "outputs": [],
   "source": [
    "tx0_df = joined_df[joined_df['clusters_tx'] == 0].sort_values('total_eth_trans',ascending=False)\n",
    "print(len(tx0_df))\n",
    "print(tx0_df.head(10))\n",
    "tx0 = [30,0,17,0,0,0,0,0]\n",
    "#binance, ftx, coinbase, coinbase, coinbase, coinbase, binance, binance, OKEx exchange,binance \n"
   ]
  },
  {
   "cell_type": "code",
   "execution_count": null,
   "id": "f01d4f7c",
   "metadata": {},
   "outputs": [],
   "source": [
    "tx1_df = joined_df[joined_df['clusters_tx'] == 1].sort_values('total_eth_trans',ascending=False)\n",
    "print(len(tx1_df))\n",
    "print(tx1_df.head(10))\n",
    "tx1 = [2,7,1,5,5,0,3,0]\n",
    "#3 whale temp accounts, 1 loan marketplace, 1 whale, whale temp, whale temp, whale temp, whale, whale temp"
   ]
  },
  {
   "cell_type": "code",
   "execution_count": null,
   "id": "fd99176f",
   "metadata": {},
   "outputs": [],
   "source": [
    "tx2_df = joined_df[joined_df['clusters_tx'] == 2].sort_values('total_eth_trans',ascending=False)\n",
    "print(len(tx2_df))\n",
    "print(tx2_df.head(10))\n",
    "tx2 = [0,0,0,2,3,1,2,2]\n",
    "#OpenSea, uniswap Dex, weth token contract, looks rare nft, 1inch dex, uniswap token contract, aave, 0x proxy, compound token contract,lido liquidity pool "
   ]
  },
  {
   "cell_type": "code",
   "execution_count": null,
   "id": "7c33b08c",
   "metadata": {},
   "outputs": [],
   "source": [
    "tx3_df = joined_df[joined_df['clusters_tx'] == 3].sort_values('total_eth_trans',ascending=False)\n",
    "print(len(tx3_df))\n",
    "print(tx3_df.head(10))\n",
    "tx3 = [4,3,3,0,0,0,0,0]\n",
    "#bincnace, whale burner, bitfinex exchange, whale, kucoin exchange, whale temp, whale, whale, whale temp, whale"
   ]
  },
  {
   "cell_type": "code",
   "execution_count": null,
   "id": "a6e5ecea",
   "metadata": {},
   "outputs": [],
   "source": [
    "g0_df = joined_df[joined_df['clusters_graph'] == 0].sort_values('total_eth_trans',ascending=False)\n",
    "print(len(g0_df))\n",
    "print(g0_df.head(10))\n",
    "g0 = [4,2,6,5,5,0,3,0]\n",
    "#binance, binance, binance, binance, binance, gemini, whale, whale temp, whale temp, whale"
   ]
  },
  {
   "cell_type": "code",
   "execution_count": null,
   "id": "917f02c6",
   "metadata": {},
   "outputs": [],
   "source": [
    "g1_df = joined_df[joined_df['clusters_graph'] == 1].sort_values('total_eth_trans',ascending=False)\n",
    "print(len(g1_df))\n",
    "print(g1_df.head(10))\n",
    "g1 = [12,2,7,2,2,1,1,2]\n",
    "#opensea, uniswap dex, token contract, look rare, 1 inch dex, uniswap token contract, whale temp, aave weth gateway, 0x exchange proxy, whale temp"
   ]
  },
  {
   "cell_type": "code",
   "execution_count": null,
   "id": "9ae42786",
   "metadata": {},
   "outputs": [],
   "source": [
    "g2_df = joined_df[joined_df['clusters_graph'] == 2].sort_values('total_eth_trans',ascending=False)\n",
    "print(len(g2_df))\n",
    "print(g2_df.head(10))\n",
    "g2 = [9,0,15,0,0,0,0,0]\n",
    "#binance, ftx, coinbase, coinbase, coinbase, coinbase, OKEx exchange, whale, OTC, bitfinex"
   ]
  },
  {
   "cell_type": "code",
   "execution_count": null,
   "id": "da2f237d",
   "metadata": {},
   "outputs": [],
   "source": [
    "g3_df = joined_df[joined_df['clusters_graph'] == 3].sort_values('total_eth_trans',ascending=False)\n",
    "print(len(g3_df))\n",
    "print(g3_df.head(10))\n",
    "g3 = [10,6,0,0,0,0,0,0]\n",
    "#whale temp, whale temp, whale temp, whale temp, whale temp, whale temp, whale, whale, whale, whale"
   ]
  },
  {
   "cell_type": "markdown",
   "id": "7e42f4e7",
   "metadata": {},
   "source": [
    "# cluster label heatmap, prelabeled addresses and top addresses per cluster"
   ]
  },
  {
   "cell_type": "code",
   "execution_count": null,
   "id": "7b338761",
   "metadata": {},
   "outputs": [],
   "source": [
    "toplbl_df = pd.DataFrame()\n",
    "toplbl_df['label'] = lbl\n",
    "toplbl_df = toplbl_df.set_index('label')\n",
    "toplbl_df['Tx 0'] = tx0\n",
    "toplbl_df['Tx 1'] = tx1\n",
    "toplbl_df['Tx 2'] = tx2\n",
    "toplbl_df['Tx 3'] = tx3\n",
    "toplbl_df['Graph 0'] = g0\n",
    "toplbl_df['Graph 1'] = g1\n",
    "toplbl_df['Graph 2'] = g2\n",
    "toplbl_df['Graph 3'] = g3"
   ]
  },
  {
   "cell_type": "code",
   "execution_count": null,
   "id": "961efc5d",
   "metadata": {
    "scrolled": false
   },
   "outputs": [],
   "source": [
    "plt.figure(figsize=(15,10))\n",
    "plt.title('Labeled Addresses per Cluster')\n",
    "plt.rc('font', size=30)\n",
    "p = sns.heatmap(toplbl_df, annot=True, fmt='d')\n",
    "p.set_xlabel('Cluster')\n",
    "p.set_ylabel('Label')"
   ]
  }
 ],
 "metadata": {
  "kernelspec": {
   "display_name": "Python 3 (ipykernel)",
   "language": "python",
   "name": "python3"
  },
  "language_info": {
   "codemirror_mode": {
    "name": "ipython",
    "version": 3
   },
   "file_extension": ".py",
   "mimetype": "text/x-python",
   "name": "python",
   "nbconvert_exporter": "python",
   "pygments_lexer": "ipython3",
   "version": "3.9.7"
  }
 },
 "nbformat": 4,
 "nbformat_minor": 5
}
